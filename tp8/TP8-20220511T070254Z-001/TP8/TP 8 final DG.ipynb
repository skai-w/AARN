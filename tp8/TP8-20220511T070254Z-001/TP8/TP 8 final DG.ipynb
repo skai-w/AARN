{
 "cells": [
  {
   "cell_type": "markdown",
   "metadata": {
    "id": "RGMmQ4R1zsXK"
   },
   "source": [
    "# TP 8 Distribution Gaussienne\n",
    "Dans ce TP, nous aimerions explorer le classifieur base sur les distributions gaussiennnes pour une classification binaire.\n",
    "\n"
   ]
  },
  {
   "cell_type": "markdown",
   "metadata": {
    "id": "bDpxocMFzsXP"
   },
   "source": [
    "# Importation des librairies necessaires au travail"
   ]
  },
  {
   "cell_type": "code",
   "execution_count": 3,
   "metadata": {
    "executionInfo": {
     "elapsed": 332,
     "status": "ok",
     "timestamp": 1652250831351,
     "user": {
      "displayName": "insaf setitra",
      "userId": "17481774957281678772"
     },
     "user_tz": -120
    },
    "id": "tY3mqEITzsXT"
   },
   "outputs": [],
   "source": [
    "import numpy as np\n",
    "import matplotlib.pyplot as plt\n",
    "from numpy import random\n"
   ]
  },
  {
   "cell_type": "markdown",
   "metadata": {
    "id": "KCMUTWfpzsXY"
   },
   "source": [
    "# Lecture des fichiers de données\n",
    "Pour ce TP, nous allons lire les données à partir d'un fichier csv."
   ]
  },
  {
   "cell_type": "code",
   "execution_count": 4,
   "metadata": {
    "colab": {
     "base_uri": "https://localhost:8080/",
     "height": 355
    },
    "executionInfo": {
     "elapsed": 454,
     "status": "error",
     "timestamp": 1652250834154,
     "user": {
      "displayName": "insaf setitra",
      "userId": "17481774957281678772"
     },
     "user_tz": -120
    },
    "id": "M0DPNJGfzsXa",
    "outputId": "056127be-cccb-4c4c-cecb-9efecbf173a0"
   },
   "outputs": [
    {
     "data": {
      "text/plain": [
       "(307, 2)"
      ]
     },
     "execution_count": 4,
     "metadata": {},
     "output_type": "execute_result"
    }
   ],
   "source": [
    "# données\n",
    "X = np.genfromtxt('X.csv', delimiter=',', dtype=float)\n",
    "X.shape"
   ]
  },
  {
   "cell_type": "code",
   "execution_count": 5,
   "metadata": {},
   "outputs": [
    {
     "data": {
      "text/plain": [
       "(307, 2)"
      ]
     },
     "execution_count": 5,
     "metadata": {},
     "output_type": "execute_result"
    }
   ],
   "source": [
    "xval= np.genfromtxt('Xval.csv',delimiter=',',dtype=float)\n",
    "xval.shape"
   ]
  },
  {
   "cell_type": "code",
   "execution_count": 6,
   "metadata": {},
   "outputs": [
    {
     "data": {
      "text/plain": [
       "(307,)"
      ]
     },
     "execution_count": 6,
     "metadata": {},
     "output_type": "execute_result"
    }
   ],
   "source": [
    "yval= np.genfromtxt('Yval.csv',delimiter=',',dtype=float)\n",
    "yval.shape"
   ]
  },
  {
   "cell_type": "markdown",
   "metadata": {
    "id": "BkwayUKXzsXd"
   },
   "source": [
    "Dans ces données (data), les 2 premières colonnes representent les caracteristiques de l'ensemble d'entrainement.\n",
    "\n",
    "Chaque ligne represente un exemple de notre ensemble de données. \n"
   ]
  },
  {
   "cell_type": "markdown",
   "metadata": {
    "id": "Fng1mGHIzsXl"
   },
   "source": [
    "# Entrainement \n",
    "dans cette partie nous allons calculer les parametres de la disribution gaussienne de chaque caracteristique."
   ]
  },
  {
   "cell_type": "code",
   "execution_count": 7,
   "metadata": {
    "id": "zP6MGRvtzsXm",
    "outputId": "b35c228a-cd9e-4bab-e346-87e2a349aba0"
   },
   "outputs": [
    {
     "data": {
      "text/plain": [
       "<matplotlib.collections.PathCollection at 0x178e7e54850>"
      ]
     },
     "execution_count": 7,
     "metadata": {},
     "output_type": "execute_result"
    },
    {
     "data": {
      "image/png": "[encoded data removed]",
      "text/plain": [
       "<Figure size 432x288 with 1 Axes>"
      ]
     },
     "metadata": {
      "needs_background": "light"
     },
     "output_type": "display_data"
    }
   ],
   "source": [
    "plt.scatter(X[:,0],X[:,1], marker ='x')"
   ]
  },
  {
   "cell_type": "code",
   "execution_count": 8,
   "metadata": {},
   "outputs": [
    {
     "data": {
      "text/plain": [
       "<matplotlib.collections.PathCollection at 0x178e85faaf0>"
      ]
     },
     "execution_count": 8,
     "metadata": {},
     "output_type": "execute_result"
    },
    {
     "data": {
      "image/png": "[encoded data removed]",
      "text/plain": [
       "<Figure size 432x288 with 1 Axes>"
      ]
     },
     "metadata": {
      "needs_background": "light"
     },
     "output_type": "display_data"
    }
   ],
   "source": [
    "plt.scatter(xval[:,0],xval[:,1], marker ='x')"
   ]
  },
  {
   "cell_type": "markdown",
   "metadata": {
    "id": "P34bOn1RzsXp"
   },
   "source": [
    "Mettons un lien avec ce que nous avons appris en regression linéaire"
   ]
  },
  {
   "cell_type": "code",
   "execution_count": 9,
   "metadata": {},
   "outputs": [
    {
     "name": "stdout",
     "output_type": "stream",
     "text": [
      "[14.11225277 14.99767459]\n",
      "[1.8326777  1.70971534]\n",
      "(array([14.11225277, 14.99767459]), array([1.8326777 , 1.70971534]))\n"
     ]
    }
   ],
   "source": [
    "def moy(X):\n",
    "    return np.mean(X,axis=0)#cad moyenne des col vu qu'on a 2 col dans X donc on retourne un tab de 2 moyenne\n",
    "print(moy(X))\n",
    "def var(X):\n",
    "    return np.var(X,axis=0)# same as above on aura une val pour chaque col de X\n",
    "print(var(X))\n",
    "\n",
    "def calculParam(X):\n",
    "    moy=np.mean(X,axis=0)\n",
    "    var=np.var(X,axis=0)\n",
    "    \n",
    "    return moy,var\n",
    "\n",
    "print(calculParam(X))"
   ]
  },
  {
   "cell_type": "code",
   "execution_count": 10,
   "metadata": {},
   "outputs": [
    {
     "name": "stdout",
     "output_type": "stream",
     "text": [
      "[5.7575268  5.37122915]\n",
      "1.0\n"
     ]
    }
   ],
   "source": [
    "moy=moy(X)\n",
    "v=var(X) \n",
    "print(np.pi*v)\n",
    "print(np.exp(0))"
   ]
  },
  {
   "cell_type": "code",
   "execution_count": 11,
   "metadata": {},
   "outputs": [
    {
     "name": "stdout",
     "output_type": "stream",
     "text": [
      "(307, 2)\n"
     ]
    }
   ],
   "source": [
    "#prob est la fct de denciter si prob(x)<epsilon alors classe 1 sinon classe 2\n",
    "def fctDensiter(X):\n",
    "    p=1/np.sqrt(2*np.pi*v)\n",
    "    e=np.exp(-((X-moy)*(X-moy)/2*v))\n",
    "    prob=e*p\n",
    "    return prob\n",
    "prob= fctDensiter(X)\n",
    "print(prob.shape)"
   ]
  },
  {
   "cell_type": "code",
   "execution_count": 12,
   "metadata": {},
   "outputs": [
    {
     "name": "stdout",
     "output_type": "stream",
     "text": [
      "(307, 2)\n"
     ]
    }
   ],
   "source": [
    "proba=fctDensiter(xval)\n",
    "print(proba.shape)"
   ]
  },
  {
   "cell_type": "code",
   "execution_count": 14,
   "metadata": {},
   "outputs": [
    {
     "data": {
      "text/plain": [
       "<matplotlib.collections.PathCollection at 0x178e8672d30>"
      ]
     },
     "execution_count": 14,
     "metadata": {},
     "output_type": "execute_result"
    },
    {
     "data": {
      "image/png": "[encoded data removed]",
      "text/plain": [
       "<Figure size 432x288 with 1 Axes>"
      ]
     },
     "metadata": {
      "needs_background": "light"
     },
     "output_type": "display_data"
    }
   ],
   "source": [
    "plt.scatter(X[:,0],prob[:,0])\n",
    "plt.scatter(X[:,1],prob[:,1])"
   ]
  },
  {
   "cell_type": "code",
   "execution_count": 15,
   "metadata": {},
   "outputs": [
    {
     "data": {
      "text/plain": [
       "<matplotlib.collections.PathCollection at 0x178e86ef520>"
      ]
     },
     "execution_count": 15,
     "metadata": {},
     "output_type": "execute_result"
    },
    {
     "data": {
      "image/png": "[encoded data removed]",
      "text/plain": [
       "<Figure size 432x288 with 1 Axes>"
      ]
     },
     "metadata": {
      "needs_background": "light"
     },
     "output_type": "display_data"
    }
   ],
   "source": [
    "plt.scatter(xval[:,0],proba[:,0])\n",
    "plt.scatter(xval[:,1],proba[:,1])"
   ]
  },
  {
   "cell_type": "code",
   "execution_count": 16,
   "metadata": {},
   "outputs": [
    {
     "data": {
      "text/plain": [
       "(307, 1)"
      ]
     },
     "execution_count": 16,
     "metadata": {},
     "output_type": "execute_result"
    }
   ],
   "source": [
    "yprob=prob[:,0]*prob[:,1]\n",
    "\n",
    "yprob=yprob.reshape(307,1)\n",
    "yprob.shape"
   ]
  },
  {
   "cell_type": "code",
   "execution_count": 17,
   "metadata": {},
   "outputs": [
    {
     "data": {
      "text/plain": [
       "(307, 1)"
      ]
     },
     "execution_count": 17,
     "metadata": {},
     "output_type": "execute_result"
    }
   ],
   "source": [
    "Yproba=proba[:,0]*proba[:,1]\n",
    "Yproba=Yproba.reshape(307,1)\n",
    "Yproba.shape"
   ]
  },
  {
   "cell_type": "code",
   "execution_count": 18,
   "metadata": {},
   "outputs": [
    {
     "data": {
      "text/plain": [
       "(307, 1)"
      ]
     },
     "execution_count": 18,
     "metadata": {},
     "output_type": "execute_result"
    }
   ],
   "source": [
    "np.max(yprob)\n",
    "yprob.shape"
   ]
  },
  {
   "cell_type": "code",
   "execution_count": 20,
   "metadata": {},
   "outputs": [],
   "source": [
    "from sklearn.metrics import f1_score\n",
    "def fct(yproba,yval):\n",
    "    f1_scores = []\n",
    "    #plus on augement le saut de valeur plus la valeur du score est meilleur\n",
    "    for epsilon in np.arange(0, 1, 0.000001):\n",
    "        y_pred = np.ones(yproba.shape)\n",
    "        y_pred[yproba >= epsilon] = 0\n",
    "        f1_scores.append((f1_score(yval, y_pred),epsilon))\n",
    "    return f1_scores\n",
    "f=fct(Yproba,yval)"
   ]
  },
  {
   "cell_type": "code",
   "execution_count": 21,
   "metadata": {},
   "outputs": [
    {
     "data": {
      "text/plain": [
       "(0.823529411764706, 6e-06)"
      ]
     },
     "execution_count": 21,
     "metadata": {},
     "output_type": "execute_result"
    }
   ],
   "source": [
    "max(f)"
   ]
  },
  {
   "cell_type": "code",
   "execution_count": 22,
   "metadata": {},
   "outputs": [
    {
     "name": "stderr",
     "output_type": "stream",
     "text": [
      "C:\\Users\\User-hst\\AppData\\Local\\Temp/ipykernel_18784/1894165124.py:7: MatplotlibDeprecationWarning: Calling gca() with keyword arguments was deprecated in Matplotlib 3.4. Starting two minor releases later, gca() will take no keyword arguments. The gca() function should only be used to get the current axes, or if no axes exist, create new axes with default keyword arguments. To create a new axes with non-default arguments, use plt.axes() or plt.subplot().\n",
      "  ax = fig.gca(projection='3d')  # Affichage en 3D\n"
     ]
    },
    {
     "data": {
      "text/plain": [
       "<mpl_toolkits.mplot3d.art3d.Poly3DCollection at 0x178ea8d9fd0>"
      ]
     },
     "execution_count": 22,
     "metadata": {},
     "output_type": "execute_result"
    },
    {
     "data": {
      "image/png": "[encoded data removed]",
      "text/plain": [
       "<Figure size 432x288 with 1 Axes>"
      ]
     },
     "metadata": {
      "needs_background": "light"
     },
     "output_type": "display_data"
    }
   ],
   "source": [
    "\n",
    "import matplotlib.pyplot as plt\n",
    "from mpl_toolkits.mplot3d import axes3d  # Fonction pour la 3D\n",
    "from matplotlib import cm\n",
    "from matplotlib.ticker import LinearLocator, FormatStrFormatter\n",
    "import numpy as np\n",
    "fig = plt.figure()\n",
    "ax = fig.gca(projection='3d')  # Affichage en 3D\n",
    "ax.plot_surface(xval[:,0], xval[:,1], Yproba, cmap=cm.coolwarm, linewidth=0)  # Tracé d'une surface\n"
   ]
  },
  {
   "cell_type": "code",
   "execution_count": null,
   "metadata": {},
   "outputs": [],
   "source": []
  },
  {
   "cell_type": "markdown",
   "metadata": {
    "id": "c47rKy1pzsYG"
   },
   "source": [
    "# Travail à faire\n",
    "- 1) Nous aimerions bien choisir le epsilon \n",
    "\n",
    "\n"
   ]
  },
  {
   "cell_type": "markdown",
   "metadata": {
    "id": "1q-8odoLzsYH"
   },
   "source": [
    "# Consignes"
   ]
  },
  {
   "cell_type": "markdown",
   "metadata": {
    "id": "pwLYNnstzsYI"
   },
   "source": [
    "Le travail est à remettre par groupe de 4 au maximum [1..4].\n",
    "\n",
    "Le délai est le Lundi 23 Mai 2022 à 22h\n"
   ]
  },
  {
   "cell_type": "code",
   "execution_count": null,
   "metadata": {
    "id": "Sfv9XEQ1zsYI"
   },
   "outputs": [],
   "source": [
    "# bonne chance"
   ]
  }
 ],
 "metadata": {
  "colab": {
   "name": "TP DG.ipynb",
   "provenance": [
    {
     "file_id": "104d6umzYUZE1v5l5Lmbaj6kS5h49L0Rs",
     "timestamp": 1652250571890
    }
   ]
  },
  "kernelspec": {
   "display_name": "Python 3 (ipykernel)",
   "language": "python",
   "name": "python3"
  },
  "language_info": {
   "codemirror_mode": {
    "name": "ipython",
    "version": 3
   },
   "file_extension": ".py",
   "mimetype": "text/x-python",
   "name": "python",
   "nbconvert_exporter": "python",
   "pygments_lexer": "ipython3",
   "version": "3.9.7"
  }
 },
 "nbformat": 4,
 "nbformat_minor": 1
}
