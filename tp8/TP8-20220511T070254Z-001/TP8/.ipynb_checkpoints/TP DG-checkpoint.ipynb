{
 "cells": [
  {
   "cell_type": "markdown",
   "metadata": {
    "id": "RGMmQ4R1zsXK"
   },
   "source": [
    "# TP 8 Distribution Gaussienne\n",
    "Dans ce TP, nous aimerions explorer le classifieur base sur les distributions gaussiennnes pour une classification binaire.\n",
    "\n"
   ]
  },
  {
   "cell_type": "markdown",
   "metadata": {
    "id": "bDpxocMFzsXP"
   },
   "source": [
    "# Importation des librairies necessaires au travail"
   ]
  },
  {
   "cell_type": "code",
   "execution_count": 1,
   "metadata": {
    "executionInfo": {
     "elapsed": 332,
     "status": "ok",
     "timestamp": 1652250831351,
     "user": {
      "displayName": "insaf setitra",
      "userId": "17481774957281678772"
     },
     "user_tz": -120
    },
    "id": "tY3mqEITzsXT"
   },
   "outputs": [],
   "source": [
    "import numpy as np\n",
    "import matplotlib.pyplot as plt\n",
    "from numpy import random\n"
   ]
  },
  {
   "cell_type": "markdown",
   "metadata": {
    "id": "KCMUTWfpzsXY"
   },
   "source": [
    "# Lecture des fichiers de données\n",
    "Pour ce TP, nous allons lire les données à partir d'un fichier csv."
   ]
  },
  {
   "cell_type": "code",
   "execution_count": 2,
   "metadata": {
    "colab": {
     "base_uri": "https://localhost:8080/",
     "height": 355
    },
    "executionInfo": {
     "elapsed": 454,
     "status": "error",
     "timestamp": 1652250834154,
     "user": {
      "displayName": "insaf setitra",
      "userId": "17481774957281678772"
     },
     "user_tz": -120
    },
    "id": "M0DPNJGfzsXa",
    "outputId": "056127be-cccb-4c4c-cecb-9efecbf173a0"
   },
   "outputs": [
    {
     "data": {
      "text/plain": [
       "(307, 2)"
      ]
     },
     "execution_count": 2,
     "metadata": {},
     "output_type": "execute_result"
    }
   ],
   "source": [
    "# données\n",
    "X = np.genfromtxt('X.csv', delimiter=',', dtype=float)\n",
    "X.shape"
   ]
  },
  {
   "cell_type": "markdown",
   "metadata": {
    "id": "BkwayUKXzsXd"
   },
   "source": [
    "Dans ces données (data), les 2 premières colonnes representent les caracteristiques de l'ensemble d'entrainement.\n",
    "\n",
    "Chaque ligne represente un exemple de notre ensemble de données. \n"
   ]
  },
  {
   "cell_type": "markdown",
   "metadata": {
    "id": "Fng1mGHIzsXl"
   },
   "source": [
    "# Entrainement \n",
    "dans cette partie nous allons calculer les parametres de la disribution gaussienne de chaque caracteristique."
   ]
  },
  {
   "cell_type": "code",
   "execution_count": 3,
   "metadata": {
    "id": "zP6MGRvtzsXm",
    "outputId": "b35c228a-cd9e-4bab-e346-87e2a349aba0"
   },
   "outputs": [
    {
     "data": {
      "text/plain": [
       "<matplotlib.collections.PathCollection at 0x2cf86b10610>"
      ]
     },
     "execution_count": 3,
     "metadata": {},
     "output_type": "execute_result"
    },
    {
     "data": {
      "image/png": "[encoded data removed]",
      "text/plain": [
       "<Figure size 432x288 with 1 Axes>"
      ]
     },
     "metadata": {
      "needs_background": "light"
     },
     "output_type": "display_data"
    }
   ],
   "source": [
    "plt.scatter(X[:,0],X[:,1], marker ='x')"
   ]
  },
  {
   "cell_type": "markdown",
   "metadata": {
    "id": "P34bOn1RzsXp"
   },
   "source": [
    "Mettons un lien avec ce que nous avons appris en regression linéaire"
   ]
  },
  {
   "cell_type": "code",
   "execution_count": 4,
   "metadata": {},
   "outputs": [
    {
     "data": {
      "text/plain": [
       "(array([14.11225277, 14.99767459]), array([1.8326777 , 1.70971534]))"
      ]
     },
     "execution_count": 4,
     "metadata": {},
     "output_type": "execute_result"
    }
   ],
   "source": [
    "def moy(X):\n",
    "    return np.mean(X,axis=0)\n",
    "moy(X)\n",
    "def var(X):\n",
    "    return np.var(X,axis=0)\n",
    "var(X)\n",
    "\n",
    "def calculParam(X):\n",
    "    moy=np.mean(X,axis=0)\n",
    "    var=np.var(X,axis=0)\n",
    "    \n",
    "    return moy,var\n",
    "\n",
    "calculParam(X)"
   ]
  },
  {
   "cell_type": "code",
   "execution_count": null,
   "metadata": {},
   "outputs": [],
   "source": []
  },
  {
   "cell_type": "code",
   "execution_count": 5,
   "metadata": {},
   "outputs": [
    {
     "data": {
      "text/plain": [
       "1.0"
      ]
     },
     "execution_count": 5,
     "metadata": {},
     "output_type": "execute_result"
    }
   ],
   "source": [
    "moy=moy(X)\n",
    "v=var(X) \n",
    "np.pi*v\n",
    "np.exp(0)"
   ]
  },
  {
   "cell_type": "code",
   "execution_count": 6,
   "metadata": {},
   "outputs": [
    {
     "data": {
      "text/plain": [
       "array([1.8326777 , 1.70971534])"
      ]
     },
     "execution_count": 6,
     "metadata": {},
     "output_type": "execute_result"
    }
   ],
   "source": [
    "v"
   ]
  },
  {
   "cell_type": "code",
   "execution_count": 7,
   "metadata": {},
   "outputs": [],
   "source": [
    "\n",
    "p=1/np.sqrt(2*np.pi*v)\n",
    "p\n",
    "e=np.exp(-((X-moy)*(X-moy)/2*v))\n",
    "e.shape\n",
    "prob=e*p"
   ]
  },
  {
   "cell_type": "code",
   "execution_count": 8,
   "metadata": {},
   "outputs": [],
   "source": [
    "def calculProba(X,moy,var):\n",
    "    return 1/np.sqrt(2*np.pi*var)*np.exp(-((X-moy)*(X-moy))/(2*var)) "
   ]
  },
  {
   "cell_type": "code",
   "execution_count": 9,
   "metadata": {},
   "outputs": [
    {
     "data": {
      "text/plain": [
       "<matplotlib.collections.PathCollection at 0x2cf86c1d730>"
      ]
     },
     "execution_count": 9,
     "metadata": {},
     "output_type": "execute_result"
    },
    {
     "data": {
      "image/png": "[encoded data removed]",
      "text/plain": [
       "<Figure size 432x288 with 1 Axes>"
      ]
     },
     "metadata": {
      "needs_background": "light"
     },
     "output_type": "display_data"
    }
   ],
   "source": [
    "plt.scatter(X[:,0],prob[:,0])\n"
   ]
  },
  {
   "cell_type": "code",
   "execution_count": 10,
   "metadata": {},
   "outputs": [
    {
     "data": {
      "text/plain": [
       "<matplotlib.collections.PathCollection at 0x2cf86c9b430>"
      ]
     },
     "execution_count": 10,
     "metadata": {},
     "output_type": "execute_result"
    },
    {
     "data": {
      "image/png": "[encoded data removed]",
      "text/plain": [
       "<Figure size 432x288 with 1 Axes>"
      ]
     },
     "metadata": {
      "needs_background": "light"
     },
     "output_type": "display_data"
    }
   ],
   "source": [
    "plt.scatter(X[:,1],prob[:,1])"
   ]
  },
  {
   "cell_type": "code",
   "execution_count": 75,
   "metadata": {},
   "outputs": [
    {
     "data": {
      "text/plain": [
       "array([[1.04177882e-01, 2.88395759e-01],\n",
       "       [1.87305142e-01, 8.28879769e-02],\n",
       "       [2.92803241e-01, 1.63245500e-01],\n",
       "       [1.63275029e-01, 9.34803543e-02],\n",
       "       [2.26648578e-01, 1.39984677e-01],\n",
       "       [2.85077131e-01, 3.49854737e-02],\n",
       "       [6.41003973e-02, 1.82661643e-01],\n",
       "       [3.13495322e-02, 1.53995412e-01],\n",
       "       [6.24765265e-03, 8.81207558e-02],\n",
       "       [4.33484182e-02, 3.02575197e-01],\n",
       "       [2.90350602e-01, 8.70774185e-03],\n",
       "       [2.93982606e-01, 2.56868133e-01],\n",
       "       [1.82713688e-01, 2.32388984e-01],\n",
       "       [1.83680962e-01, 2.17475570e-01],\n",
       "       [2.89935040e-01, 2.45671941e-02],\n",
       "       [2.93853084e-01, 2.39607928e-01],\n",
       "       [2.88657399e-01, 2.89761308e-01],\n",
       "       [2.63948215e-01, 3.03742885e-01],\n",
       "       [2.40119128e-01, 1.69473870e-01],\n",
       "       [6.54709499e-03, 1.26059332e-02],\n",
       "       [2.20349696e-01, 2.37715905e-01],\n",
       "       [2.90418057e-01, 2.93850408e-01],\n",
       "       [1.50167212e-01, 4.22981942e-02],\n",
       "       [2.89163748e-01, 2.83040309e-01],\n",
       "       [7.50488750e-02, 1.02950335e-01],\n",
       "       [3.52039612e-02, 4.53451372e-02],\n",
       "       [2.36225838e-01, 2.54352608e-01],\n",
       "       [1.87427177e-01, 2.76020563e-01],\n",
       "       [2.38446597e-01, 2.68673689e-01],\n",
       "       [2.58750414e-01, 2.14188277e-01],\n",
       "       [4.70808607e-02, 2.72825022e-01],\n",
       "       [2.89647712e-01, 2.91305771e-01],\n",
       "       [8.61951388e-02, 2.97249115e-01],\n",
       "       [7.46285949e-02, 3.03508271e-01],\n",
       "       [1.04219761e-02, 7.86442182e-02],\n",
       "       [1.60636211e-01, 7.20559444e-02],\n",
       "       [2.45942732e-02, 1.72999517e-01],\n",
       "       [2.94490607e-01, 2.34321772e-01],\n",
       "       [2.49787561e-01, 1.87258850e-01],\n",
       "       [2.91397652e-01, 2.61198343e-01],\n",
       "       [2.53236935e-01, 1.30068365e-01],\n",
       "       [1.19549680e-01, 2.76927398e-01],\n",
       "       [2.54736684e-01, 2.81438213e-01],\n",
       "       [2.93342613e-01, 2.66767511e-01],\n",
       "       [2.10777898e-01, 1.91937684e-01],\n",
       "       [2.74647799e-01, 9.40453536e-02],\n",
       "       [1.12123016e-02, 2.81681783e-01],\n",
       "       [2.94632377e-01, 1.48606612e-01],\n",
       "       [2.76156555e-01, 2.11034215e-01],\n",
       "       [6.23740602e-02, 8.12099754e-02],\n",
       "       [1.49811925e-01, 3.05070731e-01],\n",
       "       [2.45937778e-01, 2.15282772e-01],\n",
       "       [2.65523627e-01, 2.88014114e-01],\n",
       "       [2.94640070e-01, 3.03911999e-01],\n",
       "       [2.47827990e-01, 2.16069463e-01],\n",
       "       [2.94243088e-01, 2.54282539e-01],\n",
       "       [2.94640070e-01, 2.75208117e-01],\n",
       "       [2.88618035e-01, 3.05068636e-01],\n",
       "       [1.97525195e-01, 2.88566113e-01],\n",
       "       [2.92122287e-01, 9.88293056e-02],\n",
       "       [1.51702277e-01, 2.50080057e-01],\n",
       "       [2.89389986e-01, 3.04814658e-01],\n",
       "       [8.02837035e-02, 1.88499408e-02],\n",
       "       [2.76957116e-01, 2.84706794e-02],\n",
       "       [2.89201353e-01, 1.91425920e-02],\n",
       "       [1.49576060e-01, 2.71352129e-01],\n",
       "       [2.52952366e-01, 2.01041821e-02],\n",
       "       [2.55108332e-01, 2.53950823e-01],\n",
       "       [3.01112217e-02, 4.63959491e-02],\n",
       "       [8.65615329e-02, 1.12221576e-03],\n",
       "       [2.30179918e-01, 2.98848330e-01],\n",
       "       [1.14278626e-01, 5.81546744e-03],\n",
       "       [2.88295037e-01, 2.05883734e-01],\n",
       "       [3.27198144e-02, 2.96149304e-01],\n",
       "       [2.81012257e-01, 2.47587072e-01],\n",
       "       [2.87538783e-01, 2.83702763e-01],\n",
       "       [1.76545544e-01, 2.26043399e-01],\n",
       "       [2.94672708e-01, 2.96463192e-01],\n",
       "       [1.17265525e-02, 2.18877355e-01],\n",
       "       [2.03122784e-01, 2.25355960e-01],\n",
       "       [2.65687548e-01, 3.05095784e-01],\n",
       "       [6.50141721e-02, 2.07076638e-01],\n",
       "       [2.46736409e-01, 3.01226247e-01],\n",
       "       [6.64795858e-02, 2.30815083e-01],\n",
       "       [4.51571022e-02, 2.42711022e-01],\n",
       "       [2.77088991e-01, 2.22130251e-01],\n",
       "       [2.37074600e-01, 2.36538322e-01],\n",
       "       [1.39421209e-01, 3.03411374e-01],\n",
       "       [2.74787135e-01, 2.89066475e-01],\n",
       "       [2.91156906e-01, 2.12690376e-01],\n",
       "       [1.46050194e-01, 2.68496356e-01],\n",
       "       [1.81504272e-01, 2.87369334e-01],\n",
       "       [2.79385936e-01, 3.04958032e-01],\n",
       "       [1.96983656e-02, 2.74162999e-01],\n",
       "       [2.83047397e-01, 2.52870827e-01],\n",
       "       [1.97297445e-02, 1.96282334e-01],\n",
       "       [2.15323212e-02, 1.25297613e-01],\n",
       "       [2.15192288e-01, 1.56035928e-01],\n",
       "       [2.13339642e-01, 4.90396634e-02],\n",
       "       [2.29960767e-01, 3.03534614e-01],\n",
       "       [1.45331546e-02, 2.91992916e-01],\n",
       "       [1.84889633e-01, 1.04144603e-01],\n",
       "       [1.13853114e-01, 1.52114840e-01],\n",
       "       [6.66350159e-02, 1.96523375e-01],\n",
       "       [5.64748899e-02, 2.58113365e-01],\n",
       "       [2.61302627e-01, 2.86627617e-01],\n",
       "       [2.93355524e-02, 1.17116327e-01],\n",
       "       [1.89598246e-01, 2.09135790e-01],\n",
       "       [1.05300728e-01, 2.51751515e-02],\n",
       "       [1.60989438e-04, 3.00364976e-01],\n",
       "       [2.81419276e-01, 2.43706975e-01],\n",
       "       [7.64008234e-02, 3.54014314e-02],\n",
       "       [9.00879540e-02, 2.98225470e-01],\n",
       "       [2.94296226e-01, 4.47605421e-03],\n",
       "       [2.93380380e-01, 3.14599168e-04],\n",
       "       [1.18681368e-02, 2.86845721e-01],\n",
       "       [1.84770128e-01, 1.41667434e-01],\n",
       "       [1.14810387e-01, 8.32996458e-02],\n",
       "       [2.77741672e-01, 3.04741028e-01],\n",
       "       [4.73254615e-02, 1.97601636e-02],\n",
       "       [7.82846136e-02, 2.60558984e-01],\n",
       "       [2.92869811e-01, 2.08981097e-01],\n",
       "       [2.69735672e-01, 3.04267574e-01],\n",
       "       [2.39388255e-01, 3.04808561e-01],\n",
       "       [2.50175829e-01, 3.04696246e-02],\n",
       "       [2.33550043e-01, 1.65552535e-01],\n",
       "       [1.11209695e-01, 1.36572730e-01],\n",
       "       [1.57527495e-01, 2.56868133e-01],\n",
       "       [1.02409460e-02, 1.97727955e-01],\n",
       "       [2.83371658e-01, 3.01351241e-01],\n",
       "       [1.76061692e-01, 1.97643866e-01],\n",
       "       [2.92095765e-01, 2.01870386e-02],\n",
       "       [1.87063720e-01, 2.66523326e-01],\n",
       "       [1.10999610e-01, 1.75652365e-01],\n",
       "       [4.59308976e-02, 9.15463726e-02],\n",
       "       [2.92978761e-01, 2.71865948e-01],\n",
       "       [1.75094112e-01, 2.40694295e-01],\n",
       "       [1.83680962e-01, 2.11744586e-01],\n",
       "       [2.28861846e-01, 2.22743184e-01],\n",
       "       [1.15665510e-01, 2.19262252e-01],\n",
       "       [2.48811546e-01, 6.07048445e-02],\n",
       "       [2.89163748e-01, 3.04592168e-01],\n",
       "       [5.68410759e-03, 6.22878775e-02],\n",
       "       [2.38760279e-01, 6.15145638e-02],\n",
       "       [2.25424044e-01, 3.04981677e-01],\n",
       "       [3.81937469e-02, 2.06840772e-02],\n",
       "       [1.01551447e-01, 1.90886568e-01],\n",
       "       [1.80920030e-05, 2.42421184e-01],\n",
       "       [8.27605589e-02, 2.67783616e-01],\n",
       "       [2.90811927e-01, 3.04772423e-01],\n",
       "       [3.35160697e-02, 2.94915619e-01],\n",
       "       [3.07255185e-02, 8.48883942e-02],\n",
       "       [1.40460343e-01, 2.13634547e-01],\n",
       "       [2.90682708e-01, 2.51854344e-01],\n",
       "       [2.00984041e-01, 6.57866082e-02],\n",
       "       [1.22171014e-01, 1.76219440e-01],\n",
       "       [2.79324800e-01, 3.04936945e-01],\n",
       "       [2.21258166e-01, 7.75737655e-02],\n",
       "       [9.21669843e-02, 2.96054547e-01],\n",
       "       [2.76891744e-01, 3.04536509e-01],\n",
       "       [2.29302043e-01, 2.94814880e-01],\n",
       "       [1.27065221e-02, 2.20507041e-01],\n",
       "       [2.45536733e-01, 5.09038972e-02],\n",
       "       [2.80300145e-01, 2.56344794e-01],\n",
       "       [2.35481182e-01, 1.81536572e-01],\n",
       "       [2.94220846e-01, 3.64704169e-02],\n",
       "       [2.93612683e-01, 2.22743184e-01],\n",
       "       [2.94186346e-01, 2.70774729e-01],\n",
       "       [1.63332197e-02, 6.58392383e-02],\n",
       "       [2.89720314e-01, 1.65875541e-01],\n",
       "       [2.07410545e-05, 4.06356391e-02],\n",
       "       [2.83743931e-01, 3.04992719e-01],\n",
       "       [1.81385976e-02, 2.99719419e-01],\n",
       "       [1.06120408e-01, 2.41850540e-01],\n",
       "       [7.43786271e-02, 1.85081218e-01],\n",
       "       [2.20804273e-01, 1.92904009e-01],\n",
       "       [2.27092842e-01, 2.51517277e-01],\n",
       "       [2.89970769e-01, 3.03121705e-01],\n",
       "       [7.55540676e-02, 1.97487125e-01],\n",
       "       [1.48992206e-02, 2.98554679e-01],\n",
       "       [2.77220420e-01, 2.79021004e-01],\n",
       "       [2.94518946e-01, 2.02929648e-01],\n",
       "       [4.00020240e-02, 2.11827213e-01],\n",
       "       [2.78192588e-01, 1.03278182e-01],\n",
       "       [2.56581542e-01, 2.69730464e-01],\n",
       "       [2.89277024e-01, 9.36684694e-02],\n",
       "       [1.13853114e-01, 2.83752140e-01],\n",
       "       [1.09222912e-01, 1.33417005e-01],\n",
       "       [1.63393809e-01, 2.22743184e-01],\n",
       "       [2.89087316e-01, 2.00530289e-01],\n",
       "       [2.55200010e-01, 4.80237430e-02],\n",
       "       [2.91653254e-02, 1.30145924e-01],\n",
       "       [1.82471831e-01, 2.16691204e-01],\n",
       "       [2.94468024e-01, 1.24566497e-01],\n",
       "       [1.80174964e-01, 1.34090818e-01],\n",
       "       [4.80021862e-02, 1.94751036e-01],\n",
       "       [1.53955934e-01, 2.87239078e-01],\n",
       "       [2.87101083e-01, 2.68850679e-01],\n",
       "       [1.08493829e-01, 2.98112672e-01],\n",
       "       [2.32359525e-01, 3.84442417e-04],\n",
       "       [4.59308976e-02, 1.73324659e-01],\n",
       "       [2.80835143e-01, 1.57455208e-01],\n",
       "       [2.92199906e-01, 2.09610939e-01],\n",
       "       [6.97942084e-02, 1.69714194e-01],\n",
       "       [2.26870809e-01, 3.01513811e-01],\n",
       "       [1.83197358e-01, 2.11981182e-01],\n",
       "       [2.51043844e-01, 1.46977892e-01],\n",
       "       [7.31313086e-02, 1.93793845e-02],\n",
       "       [2.52002071e-01, 2.62335088e-01],\n",
       "       [2.92199906e-01, 1.70675985e-01],\n",
       "       [2.39075713e-01, 5.94304615e-02],\n",
       "       [1.41272578e-01, 2.43781553e-01],\n",
       "       [2.93954725e-01, 8.20159662e-02],\n",
       "       [2.63611996e-01, 2.94568246e-02],\n",
       "       [2.27205012e-01, 3.04659081e-01],\n",
       "       [2.77351404e-01, 1.60148260e-01],\n",
       "       [2.87101083e-01, 1.35442417e-01],\n",
       "       [1.58960858e-01, 2.07470059e-01],\n",
       "       [2.64532042e-01, 4.28505998e-02],\n",
       "       [1.95727971e-01, 3.03384029e-01],\n",
       "       [2.92957046e-01, 2.27106356e-01],\n",
       "       [2.72360109e-01, 2.26729447e-01],\n",
       "       [1.53863328e-03, 2.92480763e-01],\n",
       "       [1.04766101e-02, 2.06277800e-01],\n",
       "       [1.71226462e-01, 6.21428068e-02],\n",
       "       [1.07769478e-01, 2.99111979e-01],\n",
       "       [2.08699851e-03, 2.57065034e-01],\n",
       "       [7.39607420e-02, 2.61512215e-01],\n",
       "       [2.36013041e-01, 5.35988331e-02],\n",
       "       [2.51141085e-01, 2.56739833e-01],\n",
       "       [4.10952842e-02, 3.01946012e-01],\n",
       "       [4.45679133e-02, 5.25604378e-02],\n",
       "       [2.73015335e-01, 2.93247746e-01],\n",
       "       [9.74833654e-02, 3.04081370e-01],\n",
       "       [1.28943187e-01, 3.01412985e-01],\n",
       "       [1.76061692e-01, 2.83133547e-01],\n",
       "       [6.37230539e-02, 2.75208117e-01],\n",
       "       [2.68571310e-01, 2.80940681e-01],\n",
       "       [2.29632858e-01, 7.14175215e-02],\n",
       "       [2.39336625e-02, 2.35952651e-01],\n",
       "       [2.91187118e-01, 2.30453861e-02],\n",
       "       [8.24039103e-02, 2.46971356e-03],\n",
       "       [2.52762947e-01, 2.84959186e-01],\n",
       "       [1.20420679e-01, 2.56542457e-01],\n",
       "       [2.72066516e-01, 1.51329461e-01],\n",
       "       [9.97539349e-02, 1.89435867e-01],\n",
       "       [2.50369500e-01, 1.84197834e-01],\n",
       "       [1.49576060e-01, 6.79727268e-02],\n",
       "       [1.46050194e-01, 2.76503508e-01],\n",
       "       [8.04727546e-03, 2.93594325e-03],\n",
       "       [2.75819052e-01, 1.22470390e-01],\n",
       "       [1.19705392e-02, 2.40769963e-01],\n",
       "       [2.61475921e-01, 6.35525434e-02],\n",
       "       [1.74729982e-01, 3.67316784e-02],\n",
       "       [1.12263010e-01, 3.00749726e-01],\n",
       "       [2.34302096e-01, 3.00749726e-01],\n",
       "       [1.04077342e-01, 1.66031392e-01],\n",
       "       [2.94198066e-01, 2.84033974e-01],\n",
       "       [1.43246902e-01, 1.21531008e-01],\n",
       "       [2.86966844e-01, 2.90720716e-01],\n",
       "       [6.58602752e-02, 1.96764375e-01],\n",
       "       [1.31985653e-01, 6.82273047e-02],\n",
       "       [1.81988076e-01, 2.77561954e-01],\n",
       "       [1.07976515e-01, 2.93210020e-01],\n",
       "       [2.46038968e-01, 1.41357977e-01],\n",
       "       [2.31164650e-01, 2.00290035e-01],\n",
       "       [1.57645522e-01, 2.10168590e-01],\n",
       "       [2.71771247e-01, 1.70351490e-01],\n",
       "       [2.84215251e-01, 7.91532371e-02],\n",
       "       [2.17378823e-01, 1.83230004e-01],\n",
       "       [1.90803005e-01, 9.28519130e-02],\n",
       "       [2.65194630e-01, 2.75151028e-01],\n",
       "       [2.63863371e-01, 3.04936945e-01],\n",
       "       [2.93744552e-01, 1.17042341e-01],\n",
       "       [7.93242259e-02, 1.20100901e-01],\n",
       "       [1.27263060e-01, 1.29148831e-02],\n",
       "       [4.72635470e-02, 1.30068365e-01],\n",
       "       [2.77547762e-01, 2.15778411e-02],\n",
       "       [1.52175791e-01, 1.52972253e-01],\n",
       "       [3.50384135e-03, 2.68850679e-01],\n",
       "       [1.77874940e-01, 2.96276394e-01],\n",
       "       [1.14472249e-02, 2.55551297e-01],\n",
       "       [2.94126505e-01, 8.42950248e-02],\n",
       "       [1.50167212e-01, 2.25585259e-01],\n",
       "       [2.02768157e-01, 2.52332759e-01],\n",
       "       [1.68208145e-01, 2.12454078e-01],\n",
       "       [1.04788956e-01, 2.80940681e-01],\n",
       "       [2.65687548e-01, 1.85807126e-01],\n",
       "       [1.04892112e-01, 2.43781553e-01],\n",
       "       [2.91962930e-01, 3.03211195e-01],\n",
       "       [2.72652021e-01, 2.21203514e-01],\n",
       "       [2.94653837e-01, 3.04629567e-01],\n",
       "       [2.47630385e-01, 3.00129437e-01],\n",
       "       [2.94643675e-01, 1.22470390e-01],\n",
       "       [2.41775030e-01, 1.90886568e-01],\n",
       "       [2.52479270e-01, 1.84355309e-01],\n",
       "       [2.85324645e-01, 2.86891705e-01],\n",
       "       [2.45638213e-01, 2.48630220e-01],\n",
       "       [2.91278322e-01, 1.61338007e-01],\n",
       "       [5.76010957e-03, 2.95402008e-02],\n",
       "       [1.10789720e-01, 4.30375398e-13],\n",
       "       [2.47658052e-24, 4.03291128e-45],\n",
       "       [2.54213736e-02, 2.38078150e-01],\n",
       "       [3.62047130e-13, 4.75817907e-09],\n",
       "       [3.82358700e-35, 7.17362680e-02],\n",
       "       [4.16507360e-08, 1.53741483e-04],\n",
       "       [4.04350508e-36, 1.02760754e-33]])"
      ]
     },
     "execution_count": 75,
     "metadata": {},
     "output_type": "execute_result"
    }
   ],
   "source": [
    "prob"
   ]
  },
  {
   "cell_type": "code",
   "execution_count": 13,
   "metadata": {},
   "outputs": [
    {
     "data": {
      "text/plain": [
       "array([[ 1.43481800e+00,  2.99838000e-01,  1.40347900e+00, ...,\n",
       "        -5.96372700e+00, -2.39701000e-01,  1.65989978e+01],\n",
       "       [ 2.99838000e-01,  6.26580000e-02,  2.93289000e-01, ...,\n",
       "        -1.24625700e+00, -5.00910000e-02,  3.46873980e+00],\n",
       "       [ 1.40347900e+00,  2.93289000e-01,  1.37282450e+00, ...,\n",
       "        -5.83346850e+00, -2.34465500e-01,  1.62364459e+01],\n",
       "       ...,\n",
       "       [-5.96372700e+00, -1.24625700e+00, -5.83346850e+00, ...,\n",
       "         2.47878405e+01,  9.96301500e-01, -6.89926467e+01],\n",
       "       [-2.39701000e-01, -5.00910000e-02, -2.34465500e-01, ...,\n",
       "         9.96301500e-01,  4.00445000e-02, -2.77303210e+00],\n",
       "       [ 1.65989978e+01,  3.46873980e+00,  1.62364459e+01, ...,\n",
       "        -6.89926467e+01, -2.77303210e+00,  1.92029043e+02]])"
      ]
     },
     "execution_count": 13,
     "metadata": {},
     "output_type": "execute_result"
    }
   ],
   "source": [
    "np.cov(X)"
   ]
  },
  {
   "cell_type": "code",
   "execution_count": 11,
   "metadata": {},
   "outputs": [],
   "source": [
    "yprob=prob[:,0]*prob[:,1]\n",
    "yprob.shape\n",
    "#yprob=yprob.reshape(307,1)\n"
   ]
  },
  {
   "cell_type": "code",
   "execution_count": 12,
   "metadata": {},
   "outputs": [
    {
     "data": {
      "text/plain": [
       "array([[3.00444593e-02],\n",
       "       [1.55253442e-02],\n",
       "       [4.77988115e-02],\n",
       "       [1.52630076e-02],\n",
       "       [3.17273279e-02],\n",
       "       [9.97355847e-03],\n",
       "       [1.17086839e-02],\n",
       "       [4.82768411e-03],\n",
       "       [5.50547874e-04],\n",
       "       [1.31161562e-02],\n",
       "       [2.52829809e-03],\n",
       "       [7.55147634e-02],\n",
       "       [4.24606484e-02],\n",
       "       [3.99461218e-02],\n",
       "       [7.12289040e-03],\n",
       "       [7.04095287e-02],\n",
       "       [8.36417456e-02],\n",
       "       [8.01723923e-02],\n",
       "       [4.06939178e-02],\n",
       "       [8.25322423e-05],\n",
       "       [5.23806274e-02],\n",
       "       [8.53394648e-02],\n",
       "       [6.35180188e-03],\n",
       "       [8.18449966e-02],\n",
       "       [7.72630680e-03],\n",
       "       [1.59632845e-03],\n",
       "       [6.00846580e-02],\n",
       "       [5.17337549e-02],\n",
       "       [6.40643269e-02],\n",
       "       [5.54213054e-02],\n",
       "       [1.28448368e-02],\n",
       "       [8.43760500e-02],\n",
       "       [2.56214287e-02],\n",
       "       [2.26503958e-02],\n",
       "       [8.19628163e-04],\n",
       "       [1.15747939e-02],\n",
       "       [4.25479740e-03],\n",
       "       [6.90055608e-02],\n",
       "       [4.67749313e-02],\n",
       "       [7.61125839e-02],\n",
       "       [3.29381142e-02],\n",
       "       [3.31065818e-02],\n",
       "       [7.16926370e-02],\n",
       "       [7.82542788e-02],\n",
       "       [4.04562215e-02],\n",
       "       [2.58293493e-02],\n",
       "       [3.15830110e-03],\n",
       "       [4.37843192e-02],\n",
       "       [5.82784818e-02],\n",
       "       [5.06539589e-03],\n",
       "       [4.57032334e-02],\n",
       "       [5.29461667e-02],\n",
       "       [7.64745521e-02],\n",
       "       [8.95446526e-02],\n",
       "       [5.35480608e-02],\n",
       "       [7.48208793e-02],\n",
       "       [8.10873388e-02],\n",
       "       [8.80483102e-02],\n",
       "       [5.69990777e-02],\n",
       "       [2.88702428e-02],\n",
       "       [3.79377141e-02],\n",
       "       [8.82103095e-02],\n",
       "       [1.51334306e-03],\n",
       "       [7.88515724e-03],\n",
       "       [5.53606351e-03],\n",
       "       [4.05877822e-02],\n",
       "       [5.08540042e-03],\n",
       "       [6.47849706e-02],\n",
       "       [1.39703871e-03],\n",
       "       [9.71407164e-05],\n",
       "       [6.87888840e-02],\n",
       "       [6.64583628e-04],\n",
       "       [5.93552586e-02],\n",
       "       [9.68995025e-03],\n",
       "       [6.95750019e-02],\n",
       "       [8.15755474e-02],\n",
       "       [3.99069548e-02],\n",
       "       [8.73596116e-02],\n",
       "       [2.56667680e-03],\n",
       "       [4.57749298e-02],\n",
       "       [8.10601508e-02],\n",
       "       [1.34629162e-02],\n",
       "       [7.43234827e-02],\n",
       "       [1.53444911e-02],\n",
       "       [1.09601264e-02],\n",
       "       [6.15498470e-02],\n",
       "       [5.60772279e-02],\n",
       "       [4.23019805e-02],\n",
       "       [7.94317485e-02],\n",
       "       [6.19262720e-02],\n",
       "       [3.92139449e-02],\n",
       "       [5.21587618e-02],\n",
       "       [8.52009850e-02],\n",
       "       [5.40056299e-03],\n",
       "       [7.15744294e-02],\n",
       "       [3.87260032e-03],\n",
       "       [2.69794845e-03],\n",
       "       [3.35777284e-02],\n",
       "       [1.04621042e-02],\n",
       "       [6.98010525e-02],\n",
       "       [4.24357820e-03],\n",
       "       [1.92552574e-02],\n",
       "       [1.73187483e-02],\n",
       "       [1.30953382e-02],\n",
       "       [1.45769239e-02],\n",
       "       [7.48965492e-02],\n",
       "       [3.43567215e-03],\n",
       "       [3.96517790e-02],\n",
       "       [2.65096178e-03],\n",
       "       [4.83555888e-05],\n",
       "       [6.85838405e-02],\n",
       "       [2.70469851e-03],\n",
       "       [2.68665225e-02],\n",
       "       [1.31728586e-03],\n",
       "       [9.22972235e-05],\n",
       "       [3.40432427e-03],\n",
       "       [2.61759099e-02],\n",
       "       [9.56366456e-03],\n",
       "       [8.46392827e-02],\n",
       "       [9.35158863e-04],\n",
       "       [2.03977594e-02],\n",
       "       [6.12042544e-02],\n",
       "       [8.20718184e-02],\n",
       "       [7.29675896e-02],\n",
       "       [7.62276357e-03],\n",
       "       [3.86648017e-02],\n",
       "       [1.51882116e-02],\n",
       "       [4.04637936e-02],\n",
       "       [2.02492131e-03],\n",
       "       [8.53944008e-02],\n",
       "       [3.47975134e-02],\n",
       "       [5.89654848e-03],\n",
       "       [4.98568448e-02],\n",
       "       [1.94973441e-02],\n",
       "       [4.20480706e-03],\n",
       "       [7.96509484e-02],\n",
       "       [4.21441540e-02],\n",
       "       [3.88934491e-02],\n",
       "       [5.09774162e-02],\n",
       "       [2.53610801e-02],\n",
       "       [1.51040662e-02],\n",
       "       [8.80770130e-02],\n",
       "       [3.54050997e-04],\n",
       "       [1.46872344e-02],\n",
       "       [6.87502032e-02],\n",
       "       [7.90002408e-04],\n",
       "       [1.93848071e-02],\n",
       "       [4.38588479e-06],\n",
       "       [2.21619217e-02],\n",
       "       [8.86314556e-02],\n",
       "       [9.88441244e-03],\n",
       "       [2.60823993e-03],\n",
       "       [3.00071819e-02],\n",
       "       [7.32097029e-02],\n",
       "       [1.32220584e-02],\n",
       "       [2.15289077e-02],\n",
       "       [8.51764512e-02],\n",
       "       [1.71638291e-02],\n",
       "       [2.72864548e-02],\n",
       "       [8.43236452e-02],\n",
       "       [6.76016544e-02],\n",
       "       [2.80187759e-03],\n",
       "       [1.24987766e-02],\n",
       "       [7.18534830e-02],\n",
       "       [4.27484465e-02],\n",
       "       [1.07303569e-02],\n",
       "       [6.54002237e-02],\n",
       "       [7.96582281e-02],\n",
       "       [1.07536674e-03],\n",
       "       [4.80575139e-02],\n",
       "       [8.42826003e-07],\n",
       "       [8.65398329e-02],\n",
       "       [5.43648993e-03],\n",
       "       [2.56652779e-02],\n",
       "       [1.37660869e-02],\n",
       "       [4.25940296e-02],\n",
       "       [5.71177732e-02],\n",
       "       [8.78964337e-02],\n",
       "       [1.49209556e-02],\n",
       "       [4.44823201e-03],\n",
       "       [7.73503201e-02],\n",
       "       [5.97666260e-02],\n",
       "       [8.47351726e-03],\n",
       "       [2.87312247e-02],\n",
       "       [6.92078584e-02],\n",
       "       [2.70961361e-02],\n",
       "       [3.23060648e-02],\n",
       "       [1.45721938e-02],\n",
       "       [3.63948572e-02],\n",
       "       [5.79707629e-02],\n",
       "       [1.22556597e-02],\n",
       "       [3.79574822e-03],\n",
       "       [3.95400408e-02],\n",
       "       [3.66808501e-02],\n",
       "       [2.41598082e-02],\n",
       "       [9.34847550e-03],\n",
       "       [4.42221606e-02],\n",
       "       [7.71873213e-02],\n",
       "       [3.23433854e-02],\n",
       "       [8.93288576e-05],\n",
       "       [7.96095716e-03],\n",
       "       [4.42189559e-02],\n",
       "       [6.12482967e-02],\n",
       "       [1.18450678e-02],\n",
       "       [6.84046823e-02],\n",
       "       [3.88343925e-02],\n",
       "       [3.68978950e-02],\n",
       "       [1.41723975e-03],\n",
       "       [6.61089856e-02],\n",
       "       [4.98715068e-02],\n",
       "       [1.42083799e-02],\n",
       "       [3.44396485e-02],\n",
       "       [2.41089808e-02],\n",
       "       [7.76517233e-03],\n",
       "       [6.92200703e-02],\n",
       "       [4.44173448e-02],\n",
       "       [3.88856647e-02],\n",
       "       [3.29796186e-02],\n",
       "       [1.13353567e-02],\n",
       "       [5.93807405e-02],\n",
       "       [6.65324073e-02],\n",
       "       [6.17520569e-02],\n",
       "       [4.50020636e-04],\n",
       "       [2.16109208e-03],\n",
       "       [1.06404929e-02],\n",
       "       [3.22351418e-02],\n",
       "       [5.36494343e-04],\n",
       "       [1.93416375e-02],\n",
       "       [1.26500236e-02],\n",
       "       [6.44779202e-02],\n",
       "       [1.24085572e-02],\n",
       "       [2.34250904e-03],\n",
       "       [8.00611316e-02],\n",
       "       [2.96428754e-02],\n",
       "       [3.88651508e-02],\n",
       "       [4.98489713e-02],\n",
       "       [1.75371017e-02],\n",
       "       [7.54526068e-02],\n",
       "       [1.63998096e-02],\n",
       "       [5.64721111e-03],\n",
       "       [6.71051956e-03],\n",
       "       [2.03514055e-04],\n",
       "       [7.20271237e-02],\n",
       "       [3.08930169e-02],\n",
       "       [4.11716791e-02],\n",
       "       [1.88969731e-02],\n",
       "       [4.61175195e-02],\n",
       "       [1.01670926e-02],\n",
       "       [4.03833910e-02],\n",
       "       [2.36263441e-05],\n",
       "       [3.37796668e-02],\n",
       "       [2.88214630e-03],\n",
       "       [1.66174598e-02],\n",
       "       [6.41812552e-03],\n",
       "       [3.37630695e-02],\n",
       "       [7.04662912e-02],\n",
       "       [1.72801060e-02],\n",
       "       [8.35622459e-02],\n",
       "       [1.74089404e-02],\n",
       "       [8.34272062e-02],\n",
       "       [1.29589559e-02],\n",
       "       [9.00502538e-03],\n",
       "       [5.05129659e-02],\n",
       "       [3.16597961e-02],\n",
       "       [3.47795709e-02],\n",
       "       [4.62999759e-02],\n",
       "       [3.31321371e-02],\n",
       "       [4.62966368e-02],\n",
       "       [2.24965572e-02],\n",
       "       [3.98303225e-02],\n",
       "       [1.77164240e-02],\n",
       "       [7.29685751e-02],\n",
       "       [8.04616903e-02],\n",
       "       [3.43805500e-02],\n",
       "       [9.52691099e-03],\n",
       "       [1.64358755e-03],\n",
       "       [6.14749231e-03],\n",
       "       [5.98888151e-03],\n",
       "       [2.32786736e-02],\n",
       "       [9.42010127e-04],\n",
       "       [5.27001457e-02],\n",
       "       [2.92535318e-03],\n",
       "       [2.47934010e-02],\n",
       "       [3.38755093e-02],\n",
       "       [5.11650486e-02],\n",
       "       [3.57365064e-02],\n",
       "       [2.94394808e-02],\n",
       "       [4.93666396e-02],\n",
       "       [2.55707620e-02],\n",
       "       [8.85264288e-02],\n",
       "       [6.03115851e-02],\n",
       "       [8.97602706e-02],\n",
       "       [7.43211681e-02],\n",
       "       [3.60851256e-02],\n",
       "       [4.61516057e-02],\n",
       "       [4.65458937e-02],\n",
       "       [8.18572739e-02],\n",
       "       [6.10730830e-02],\n",
       "       [4.69942639e-02],\n",
       "       [1.70154794e-04],\n",
       "       [4.76811698e-14],\n",
       "       [9.98782949e-69],\n",
       "       [6.05227361e-03],\n",
       "       [1.72268508e-21],\n",
       "       [2.74289862e-36],\n",
       "       [6.40344594e-12],\n",
       "       [4.15513630e-69]])"
      ]
     },
     "execution_count": 12,
     "metadata": {},
     "output_type": "execute_result"
    }
   ],
   "source": [
    "np.max(yprob)\n",
    "yprob"
   ]
  },
  {
   "cell_type": "code",
   "execution_count": 68,
   "metadata": {},
   "outputs": [
    {
     "name": "stderr",
     "output_type": "stream",
     "text": [
      "C:\\Users\\DELL\\AppData\\Local\\Temp/ipykernel_8876/1111866567.py:7: MatplotlibDeprecationWarning: Calling gca() with keyword arguments was deprecated in Matplotlib 3.4. Starting two minor releases later, gca() will take no keyword arguments. The gca() function should only be used to get the current axes, or if no axes exist, create new axes with default keyword arguments. To create a new axes with non-default arguments, use plt.axes() or plt.subplot().\n",
      "  ax = fig.gca(projection='3d')  # Affichage en 3D\n"
     ]
    },
    {
     "data": {
      "text/plain": [
       "<mpl_toolkits.mplot3d.art3d.Poly3DCollection at 0x1e1d3790220>"
      ]
     },
     "execution_count": 68,
     "metadata": {},
     "output_type": "execute_result"
    },
    {
     "data": {
      "image/png": "[encoded data removed]",
      "text/plain": [
       "<Figure size 432x288 with 1 Axes>"
      ]
     },
     "metadata": {
      "needs_background": "light"
     },
     "output_type": "display_data"
    }
   ],
   "source": [
    "\n",
    "import matplotlib.pyplot as plt\n",
    "from mpl_toolkits.mplot3d import axes3d  # Fonction pour la 3D\n",
    "from matplotlib import cm\n",
    "from matplotlib.ticker import LinearLocator, FormatStrFormatter\n",
    "import numpy as np\n",
    "fig = plt.figure()\n",
    "ax = fig.gca(projection='3d')  # Affichage en 3D\n",
    "ax.plot_surface(X[:,0], X[:,1], yprob, cmap=cm.coolwarm, linewidth=0)  # Tracé d'une surface\n"
   ]
  },
  {
   "cell_type": "code",
   "execution_count": null,
   "metadata": {},
   "outputs": [],
   "source": []
  },
  {
   "cell_type": "markdown",
   "metadata": {
    "id": "c47rKy1pzsYG"
   },
   "source": [
    "# Travail à faire\n",
    "- 1) Nous aimerions bien choisir le epsilon \n",
    "\n",
    "\n"
   ]
  },
  {
   "cell_type": "markdown",
   "metadata": {
    "id": "1q-8odoLzsYH"
   },
   "source": [
    "# Consignes"
   ]
  },
  {
   "cell_type": "markdown",
   "metadata": {
    "id": "pwLYNnstzsYI"
   },
   "source": [
    "Le travail est à remettre par groupe de 4 au maximum [1..4].\n",
    "\n",
    "Le délai est le Lundi 23 Mai 2022 à 22h\n"
   ]
  },
  {
   "cell_type": "code",
   "execution_count": null,
   "metadata": {
    "id": "Sfv9XEQ1zsYI"
   },
   "outputs": [],
   "source": [
    "# bonne chance"
   ]
  }
 ],
 "metadata": {
  "colab": {
   "name": "TP DG.ipynb",
   "provenance": [
    {
     "file_id": "104d6umzYUZE1v5l5Lmbaj6kS5h49L0Rs",
     "timestamp": 1652250571890
    }
   ]
  },
  "kernelspec": {
   "display_name": "Python 3 (ipykernel)",
   "language": "python",
   "name": "python3"
  },
  "language_info": {
   "codemirror_mode": {
    "name": "ipython",
    "version": 3
   },
   "file_extension": ".py",
   "mimetype": "text/x-python",
   "name": "python",
   "nbconvert_exporter": "python",
   "pygments_lexer": "ipython3",
   "version": "3.9.7"
  }
 },
 "nbformat": 4,
 "nbformat_minor": 1
}
