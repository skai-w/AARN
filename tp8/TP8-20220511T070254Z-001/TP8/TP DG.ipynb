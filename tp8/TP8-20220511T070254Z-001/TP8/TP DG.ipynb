{
 "cells": [
  {
   "cell_type": "markdown",
   "metadata": {
    "id": "RGMmQ4R1zsXK"
   },
   "source": [
    "# TP 8 Distribution Gaussienne\n",
    "Dans ce TP, nous aimerions explorer le classifieur base sur les distributions gaussiennnes pour une classification binaire.\n",
    "\n"
   ]
  },
  {
   "cell_type": "markdown",
   "metadata": {
    "id": "bDpxocMFzsXP"
   },
   "source": [
    "# Importation des librairies necessaires au travail"
   ]
  },
  {
   "cell_type": "code",
   "execution_count": 1,
   "metadata": {
    "executionInfo": {
     "elapsed": 332,
     "status": "ok",
     "timestamp": 1652250831351,
     "user": {
      "displayName": "insaf setitra",
      "userId": "17481774957281678772"
     },
     "user_tz": -120
    },
    "id": "tY3mqEITzsXT"
   },
   "outputs": [],
   "source": [
    "import numpy as np\n",
    "import matplotlib.pyplot as plt\n",
    "from numpy import random\n"
   ]
  },
  {
   "cell_type": "markdown",
   "metadata": {
    "id": "KCMUTWfpzsXY"
   },
   "source": [
    "# Lecture des fichiers de données\n",
    "Pour ce TP, nous allons lire les données à partir d'un fichier csv."
   ]
  },
  {
   "cell_type": "code",
   "execution_count": 54,
   "metadata": {
    "colab": {
     "base_uri": "https://localhost:8080/",
     "height": 355
    },
    "executionInfo": {
     "elapsed": 454,
     "status": "error",
     "timestamp": 1652250834154,
     "user": {
      "displayName": "insaf setitra",
      "userId": "17481774957281678772"
     },
     "user_tz": -120
    },
    "id": "M0DPNJGfzsXa",
    "outputId": "056127be-cccb-4c4c-cecb-9efecbf173a0"
   },
   "outputs": [
    {
     "data": {
      "text/plain": [
       "(307, 2)"
      ]
     },
     "execution_count": 54,
     "metadata": {},
     "output_type": "execute_result"
    }
   ],
   "source": [
    "# données\n",
    "X = np.genfromtxt('X.csv', delimiter=',', dtype=float)\n",
    "X.shape"
   ]
  },
  {
   "cell_type": "code",
   "execution_count": 14,
   "metadata": {},
   "outputs": [
    {
     "data": {
      "text/plain": [
       "(307, 2)"
      ]
     },
     "execution_count": 14,
     "metadata": {},
     "output_type": "execute_result"
    }
   ],
   "source": [
    "xval= np.genfromtxt('Xval.csv',delimiter=',',dtype=float)\n",
    "xval.shape"
   ]
  },
  {
   "cell_type": "code",
   "execution_count": 15,
   "metadata": {},
   "outputs": [
    {
     "data": {
      "text/plain": [
       "(307,)"
      ]
     },
     "execution_count": 15,
     "metadata": {},
     "output_type": "execute_result"
    }
   ],
   "source": [
    "yval= np.genfromtxt('Yval.csv',delimiter=',',dtype=float)\n",
    "yval.shape"
   ]
  },
  {
   "cell_type": "markdown",
   "metadata": {
    "id": "BkwayUKXzsXd"
   },
   "source": [
    "Dans ces données (data), les 2 premières colonnes representent les caracteristiques de l'ensemble d'entrainement.\n",
    "\n",
    "Chaque ligne represente un exemple de notre ensemble de données. \n"
   ]
  },
  {
   "cell_type": "markdown",
   "metadata": {
    "id": "Fng1mGHIzsXl"
   },
   "source": [
    "# Entrainement \n",
    "dans cette partie nous allons calculer les parametres de la disribution gaussienne de chaque caracteristique."
   ]
  },
  {
   "cell_type": "code",
   "execution_count": 3,
   "metadata": {
    "id": "zP6MGRvtzsXm",
    "outputId": "b35c228a-cd9e-4bab-e346-87e2a349aba0"
   },
   "outputs": [
    {
     "data": {
      "text/plain": [
       "<matplotlib.collections.PathCollection at 0x289e9e40610>"
      ]
     },
     "execution_count": 3,
     "metadata": {},
     "output_type": "execute_result"
    },
    {
     "data": {
      "image/png": "[encoded data removed]",
      "text/plain": [
       "<Figure size 432x288 with 1 Axes>"
      ]
     },
     "metadata": {
      "needs_background": "light"
     },
     "output_type": "display_data"
    }
   ],
   "source": [
    "plt.scatter(X[:,0],X[:,1], marker ='x')"
   ]
  },
  {
   "cell_type": "code",
   "execution_count": 19,
   "metadata": {},
   "outputs": [
    {
     "data": {
      "text/plain": [
       "<matplotlib.collections.PathCollection at 0x289ea27f550>"
      ]
     },
     "execution_count": 19,
     "metadata": {},
     "output_type": "execute_result"
    },
    {
     "data": {
      "image/png": "[encoded data removed]",
      "text/plain": [
       "<Figure size 432x288 with 1 Axes>"
      ]
     },
     "metadata": {
      "needs_background": "light"
     },
     "output_type": "display_data"
    }
   ],
   "source": [
    "plt.scatter(xval[:,0],xval[:,1], marker ='x')"
   ]
  },
  {
   "cell_type": "markdown",
   "metadata": {
    "id": "P34bOn1RzsXp"
   },
   "source": [
    "Mettons un lien avec ce que nous avons appris en regression linéaire"
   ]
  },
  {
   "cell_type": "code",
   "execution_count": 4,
   "metadata": {},
   "outputs": [
    {
     "name": "stdout",
     "output_type": "stream",
     "text": [
      "[14.11225277 14.99767459]\n",
      "[1.8326777  1.70971534]\n",
      "(array([14.11225277, 14.99767459]), array([1.8326777 , 1.70971534]))\n"
     ]
    }
   ],
   "source": [
    "def moy(X):\n",
    "    return np.mean(X,axis=0)#cad moyenne des col vu qu'on a 2 col dans X donc on retourne un tab de 2 moyenne\n",
    "print(moy(X))\n",
    "def var(X):\n",
    "    return np.var(X,axis=0)# same as above o aura une val pour chaque col de X\n",
    "print(var(X))\n",
    "\n",
    "def calculParam(X):\n",
    "    moy=np.mean(X,axis=0)\n",
    "    var=np.var(X,axis=0)\n",
    "    \n",
    "    return moy,var\n",
    "\n",
    "print(calculParam(X))"
   ]
  },
  {
   "cell_type": "code",
   "execution_count": null,
   "metadata": {},
   "outputs": [],
   "source": []
  },
  {
   "cell_type": "code",
   "execution_count": 5,
   "metadata": {},
   "outputs": [
    {
     "name": "stdout",
     "output_type": "stream",
     "text": [
      "[5.7575268  5.37122915]\n",
      "1.0\n"
     ]
    }
   ],
   "source": [
    "moy=moy(X)\n",
    "v=var(X) \n",
    "print(np.pi*v)\n",
    "print(np.exp(0))"
   ]
  },
  {
   "cell_type": "code",
   "execution_count": 20,
   "metadata": {},
   "outputs": [
    {
     "name": "stdout",
     "output_type": "stream",
     "text": [
      "(307, 2)\n"
     ]
    }
   ],
   "source": [
    "#prob est la fct de denciter si prob(x)<epsilon alors classe 1 sinon classe 2\n",
    "def fctDensiter(X):\n",
    "    p=1/np.sqrt(2*np.pi*v)\n",
    "    e=np.exp(-((X-moy)*(X-moy)/2*v))\n",
    "    prob=e*p\n",
    "    return prob\n",
    "prob= fctDensiter(X)\n",
    "print(prob.shape)"
   ]
  },
  {
   "cell_type": "code",
   "execution_count": 21,
   "metadata": {},
   "outputs": [
    {
     "name": "stdout",
     "output_type": "stream",
     "text": [
      "(307, 2)\n"
     ]
    }
   ],
   "source": [
    "proba=fctDensiter(xval)\n",
    "print(proba.shape)"
   ]
  },
  {
   "cell_type": "code",
   "execution_count": 22,
   "metadata": {},
   "outputs": [],
   "source": [
    "def calculProba(X,moy,var):\n",
    "    return 1/np.sqrt(2*np.pi*var)*np.exp(-((X-moy)*(X-moy))/(2*var)) "
   ]
  },
  {
   "cell_type": "code",
   "execution_count": 23,
   "metadata": {},
   "outputs": [
    {
     "data": {
      "text/plain": [
       "<matplotlib.collections.PathCollection at 0x289ea2ed940>"
      ]
     },
     "execution_count": 23,
     "metadata": {},
     "output_type": "execute_result"
    },
    {
     "data": {
      "image/png": "[encoded data removed]",
      "text/plain": [
       "<Figure size 432x288 with 1 Axes>"
      ]
     },
     "metadata": {
      "needs_background": "light"
     },
     "output_type": "display_data"
    }
   ],
   "source": [
    "plt.scatter(X[:,0],prob[:,0])\n",
    "plt.scatter(X[:,1],prob[:,1])"
   ]
  },
  {
   "cell_type": "code",
   "execution_count": 24,
   "metadata": {},
   "outputs": [
    {
     "data": {
      "text/plain": [
       "<matplotlib.collections.PathCollection at 0x289ea35cb20>"
      ]
     },
     "execution_count": 24,
     "metadata": {},
     "output_type": "execute_result"
    },
    {
     "data": {
      "image/png": "[encoded data removed]",
      "text/plain": [
       "<Figure size 432x288 with 1 Axes>"
      ]
     },
     "metadata": {
      "needs_background": "light"
     },
     "output_type": "display_data"
    }
   ],
   "source": [
    "plt.scatter(xval[:,0],proba[:,0])\n",
    "plt.scatter(xval[:,1],proba[:,1])"
   ]
  },
  {
   "cell_type": "code",
   "execution_count": 25,
   "metadata": {},
   "outputs": [
    {
     "data": {
      "text/plain": [
       "(307,)"
      ]
     },
     "execution_count": 25,
     "metadata": {},
     "output_type": "execute_result"
    }
   ],
   "source": [
    "yprob=prob[:,0]*prob[:,1]\n",
    "yprob.shape\n",
    "#yprob=yprob.reshape(307,1)\n"
   ]
  },
  {
   "cell_type": "code",
   "execution_count": 26,
   "metadata": {},
   "outputs": [
    {
     "data": {
      "text/plain": [
       "(307,)"
      ]
     },
     "execution_count": 26,
     "metadata": {},
     "output_type": "execute_result"
    }
   ],
   "source": [
    "Yproba=proba[:,0]*proba[:,1]\n",
    "Yproba.shape"
   ]
  },
  {
   "cell_type": "code",
   "execution_count": 27,
   "metadata": {},
   "outputs": [
    {
     "data": {
      "text/plain": [
       "(307,)"
      ]
     },
     "execution_count": 27,
     "metadata": {},
     "output_type": "execute_result"
    }
   ],
   "source": [
    "np.max(yprob)\n",
    "yprob.shape"
   ]
  },
  {
   "cell_type": "code",
   "execution_count": 48,
   "metadata": {},
   "outputs": [],
   "source": [
    "from sklearn.metrics import f1_score\n",
    "def fct(yproba,yval):\n",
    "    f1_scores = []\n",
    "    for epsilon in np.arange(0, 1, 0.00001):\n",
    "        y_pred = np.ones(yproba.shape)\n",
    "        y_pred[yproba >= epsilon] = 0\n",
    "        f1_scores.append((f1_score(yval, y_pred),epsilon))\n",
    "    return f1_scores\n",
    "f=fct(Yproba,yval)"
   ]
  },
  {
   "cell_type": "code",
   "execution_count": 49,
   "metadata": {},
   "outputs": [
    {
     "data": {
      "text/plain": [
       "(0.7777777777777778, 2e-05)"
      ]
     },
     "execution_count": 49,
     "metadata": {},
     "output_type": "execute_result"
    }
   ],
   "source": [
    "max(f)"
   ]
  },
  {
   "cell_type": "code",
   "execution_count": 47,
   "metadata": {},
   "outputs": [
    {
     "data": {
      "text/plain": [
       "[(0.0, 0.0),\n",
       " (0.6666666666666666, 0.0001),\n",
       " (0.5833333333333334, 0.0002),\n",
       " (0.56, 0.00030000000000000003),\n",
       " (0.5384615384615384, 0.0004),\n",
       " (0.5384615384615384, 0.0005),\n",
       " (0.48275862068965514, 0.0006000000000000001),\n",
       " (0.48275862068965514, 0.0007),\n",
       " (0.4666666666666666, 0.0008),\n",
       " (0.45161290322580644, 0.0009000000000000001),\n",
       " (0.43750000000000006, 0.001),\n",
       " (0.42424242424242425, 0.0011),\n",
       " (0.39999999999999997, 0.0012000000000000001),\n",
       " (0.39999999999999997, 0.0013000000000000002),\n",
       " (0.39999999999999997, 0.0014),\n",
       " (0.3888888888888889, 0.0015),\n",
       " (0.368421052631579, 0.0016),\n",
       " (0.35897435897435903, 0.0017000000000000001),\n",
       " (0.35897435897435903, 0.0018000000000000002),\n",
       " (0.35897435897435903, 0.0019),\n",
       " (0.34146341463414637, 0.002),\n",
       " (0.3333333333333333, 0.0021000000000000003),\n",
       " (0.3255813953488372, 0.0022),\n",
       " (0.3181818181818182, 0.0023),\n",
       " (0.30434782608695654, 0.0024000000000000002),\n",
       " (0.30434782608695654, 0.0025),\n",
       " (0.29166666666666663, 0.0026000000000000003),\n",
       " (0.29166666666666663, 0.0027),\n",
       " (0.2857142857142857, 0.0028),\n",
       " (0.2857142857142857, 0.0029000000000000002),\n",
       " (0.2857142857142857, 0.003),\n",
       " (0.27999999999999997, 0.0031000000000000003),\n",
       " (0.27999999999999997, 0.0032),\n",
       " (0.27999999999999997, 0.0033),\n",
       " (0.27999999999999997, 0.0034000000000000002),\n",
       " (0.27999999999999997, 0.0035),\n",
       " (0.2692307692307693, 0.0036000000000000003),\n",
       " (0.2692307692307693, 0.0037),\n",
       " (0.2641509433962264, 0.0038),\n",
       " (0.2641509433962264, 0.0039000000000000003),\n",
       " (0.25925925925925924, 0.004),\n",
       " (0.25925925925925924, 0.0041),\n",
       " (0.25925925925925924, 0.004200000000000001),\n",
       " (0.24561403508771928, 0.0043),\n",
       " (0.23728813559322035, 0.0044),\n",
       " (0.23728813559322035, 0.0045000000000000005),\n",
       " (0.23728813559322035, 0.0046),\n",
       " (0.23333333333333334, 0.0047),\n",
       " (0.23333333333333334, 0.0048000000000000004),\n",
       " (0.23333333333333334, 0.0049),\n",
       " (0.22950819672131148, 0.005),\n",
       " (0.22950819672131148, 0.0051),\n",
       " (0.22580645161290322, 0.005200000000000001),\n",
       " (0.2222222222222222, 0.0053),\n",
       " (0.2222222222222222, 0.0054),\n",
       " (0.2222222222222222, 0.0055000000000000005),\n",
       " (0.2153846153846154, 0.0056),\n",
       " (0.2153846153846154, 0.0057),\n",
       " (0.2121212121212121, 0.0058000000000000005),\n",
       " (0.2121212121212121, 0.0059),\n",
       " (0.2121212121212121, 0.006),\n",
       " (0.2121212121212121, 0.0061),\n",
       " (0.208955223880597, 0.006200000000000001),\n",
       " (0.2058823529411765, 0.0063),\n",
       " (0.2058823529411765, 0.0064),\n",
       " (0.2058823529411765, 0.006500000000000001),\n",
       " (0.2058823529411765, 0.0066),\n",
       " (0.2028985507246377, 0.0067),\n",
       " (0.19718309859154928, 0.0068000000000000005),\n",
       " (0.19718309859154928, 0.006900000000000001),\n",
       " (0.19718309859154928, 0.007),\n",
       " (0.19718309859154928, 0.0071),\n",
       " (0.19718309859154928, 0.007200000000000001),\n",
       " (0.19718309859154928, 0.0073),\n",
       " (0.19444444444444445, 0.0074),\n",
       " (0.19178082191780824, 0.007500000000000001),\n",
       " (0.19178082191780824, 0.0076),\n",
       " (0.18918918918918923, 0.0077),\n",
       " (0.18666666666666665, 0.0078000000000000005),\n",
       " (0.18666666666666665, 0.0079),\n",
       " (0.1842105263157895, 0.008),\n",
       " (0.1842105263157895, 0.0081),\n",
       " (0.1818181818181818, 0.0082),\n",
       " (0.17721518987341772, 0.0083),\n",
       " (0.175, 0.008400000000000001),\n",
       " (0.175, 0.0085),\n",
       " (0.17073170731707316, 0.0086),\n",
       " (0.16666666666666666, 0.008700000000000001),\n",
       " (0.16470588235294117, 0.0088),\n",
       " (0.16470588235294117, 0.0089),\n",
       " (0.1627906976744186, 0.009000000000000001),\n",
       " (0.1627906976744186, 0.0091),\n",
       " (0.15730337078651682, 0.0092),\n",
       " (0.15555555555555556, 0.009300000000000001),\n",
       " (0.15384615384615385, 0.0094),\n",
       " (0.15384615384615385, 0.0095),\n",
       " (0.15384615384615385, 0.009600000000000001),\n",
       " (0.15384615384615385, 0.0097),\n",
       " (0.15384615384615385, 0.0098),\n",
       " (0.15384615384615385, 0.0099),\n",
       " (0.15217391304347824, 0.01),\n",
       " (0.15053763440860213, 0.010100000000000001),\n",
       " (0.15053763440860213, 0.0102),\n",
       " (0.14893617021276592, 0.0103),\n",
       " (0.1473684210526316, 0.010400000000000001),\n",
       " (0.1473684210526316, 0.0105),\n",
       " (0.1473684210526316, 0.0106),\n",
       " (0.14583333333333331, 0.010700000000000001),\n",
       " (0.14583333333333331, 0.0108),\n",
       " (0.14432989690721648, 0.0109),\n",
       " (0.14432989690721648, 0.011000000000000001),\n",
       " (0.14432989690721648, 0.0111),\n",
       " (0.14432989690721648, 0.0112),\n",
       " (0.14285714285714285, 0.011300000000000001),\n",
       " (0.13999999999999999, 0.0114),\n",
       " (0.13999999999999999, 0.0115),\n",
       " (0.13999999999999999, 0.011600000000000001),\n",
       " (0.13999999999999999, 0.0117),\n",
       " (0.13999999999999999, 0.0118),\n",
       " (0.13861386138613863, 0.0119),\n",
       " (0.1372549019607843, 0.012),\n",
       " (0.1372549019607843, 0.012100000000000001),\n",
       " (0.1372549019607843, 0.0122),\n",
       " (0.1372549019607843, 0.0123),\n",
       " (0.13592233009708737, 0.012400000000000001),\n",
       " (0.1346153846153846, 0.0125),\n",
       " (0.1346153846153846, 0.0126),\n",
       " (0.1346153846153846, 0.012700000000000001),\n",
       " (0.13333333333333333, 0.0128),\n",
       " (0.13333333333333333, 0.0129),\n",
       " (0.13333333333333333, 0.013000000000000001),\n",
       " (0.13333333333333333, 0.0131),\n",
       " (0.13333333333333333, 0.0132),\n",
       " (0.1320754716981132, 0.013300000000000001),\n",
       " (0.1308411214953271, 0.0134),\n",
       " (0.1308411214953271, 0.0135),\n",
       " (0.12844036697247707, 0.013600000000000001),\n",
       " (0.12844036697247707, 0.0137),\n",
       " (0.1272727272727273, 0.013800000000000002),\n",
       " (0.1272727272727273, 0.013900000000000001),\n",
       " (0.1272727272727273, 0.014),\n",
       " (0.12612612612612614, 0.014100000000000001),\n",
       " (0.12612612612612614, 0.0142),\n",
       " (0.12612612612612614, 0.0143),\n",
       " (0.12612612612612614, 0.014400000000000001),\n",
       " (0.12612612612612614, 0.0145),\n",
       " (0.125, 0.0146),\n",
       " (0.125, 0.014700000000000001),\n",
       " (0.12389380530973451, 0.0148),\n",
       " (0.12389380530973451, 0.0149),\n",
       " (0.12389380530973451, 0.015000000000000001),\n",
       " (0.12389380530973451, 0.0151),\n",
       " (0.12389380530973451, 0.0152),\n",
       " (0.12389380530973451, 0.015300000000000001),\n",
       " (0.12389380530973451, 0.0154),\n",
       " (0.12389380530973451, 0.0155),\n",
       " (0.12280701754385964, 0.015600000000000001),\n",
       " (0.12280701754385964, 0.015700000000000002),\n",
       " (0.12280701754385964, 0.0158),\n",
       " (0.12280701754385964, 0.0159),\n",
       " (0.12280701754385964, 0.016),\n",
       " (0.12280701754385964, 0.0161),\n",
       " (0.12280701754385964, 0.0162),\n",
       " (0.12173913043478261, 0.016300000000000002),\n",
       " (0.12173913043478261, 0.0164),\n",
       " (0.12068965517241378, 0.0165),\n",
       " (0.11965811965811966, 0.0166),\n",
       " (0.11965811965811966, 0.0167),\n",
       " (0.11965811965811966, 0.016800000000000002),\n",
       " (0.11965811965811966, 0.016900000000000002),\n",
       " (0.11965811965811966, 0.017),\n",
       " (0.11965811965811966, 0.0171),\n",
       " (0.11864406779661019, 0.0172),\n",
       " (0.11864406779661019, 0.0173),\n",
       " (0.1176470588235294, 0.017400000000000002),\n",
       " (0.1176470588235294, 0.0175),\n",
       " (0.1176470588235294, 0.0176),\n",
       " (0.1176470588235294, 0.0177),\n",
       " (0.1176470588235294, 0.0178),\n",
       " (0.1176470588235294, 0.0179),\n",
       " (0.1176470588235294, 0.018000000000000002),\n",
       " (0.1176470588235294, 0.0181),\n",
       " (0.1176470588235294, 0.0182),\n",
       " (0.11666666666666665, 0.0183),\n",
       " (0.11666666666666665, 0.0184),\n",
       " (0.11570247933884298, 0.018500000000000003),\n",
       " (0.11570247933884298, 0.018600000000000002),\n",
       " (0.11570247933884298, 0.0187),\n",
       " (0.11570247933884298, 0.0188),\n",
       " (0.11570247933884298, 0.0189),\n",
       " (0.11570247933884298, 0.019),\n",
       " (0.11570247933884298, 0.019100000000000002),\n",
       " (0.11475409836065573, 0.019200000000000002),\n",
       " (0.11475409836065573, 0.0193),\n",
       " (0.11475409836065573, 0.0194),\n",
       " (0.11382113821138211, 0.0195),\n",
       " (0.11382113821138211, 0.0196),\n",
       " (0.112, 0.019700000000000002),\n",
       " (0.11111111111111112, 0.0198),\n",
       " (0.11111111111111112, 0.0199),\n",
       " (0.11111111111111112, 0.02),\n",
       " (0.11111111111111112, 0.0201),\n",
       " (0.11111111111111112, 0.020200000000000003),\n",
       " (0.11111111111111112, 0.020300000000000002),\n",
       " (0.11111111111111112, 0.0204),\n",
       " (0.11023622047244096, 0.0205),\n",
       " (0.11023622047244096, 0.0206),\n",
       " (0.11023622047244096, 0.0207),\n",
       " (0.11023622047244096, 0.020800000000000003),\n",
       " (0.11023622047244096, 0.020900000000000002),\n",
       " (0.10937499999999999, 0.021),\n",
       " (0.10852713178294573, 0.0211),\n",
       " (0.10769230769230768, 0.0212),\n",
       " (0.10687022900763359, 0.0213),\n",
       " (0.10606060606060606, 0.021400000000000002),\n",
       " (0.10606060606060606, 0.021500000000000002),\n",
       " (0.10606060606060606, 0.0216),\n",
       " (0.1044776119402985, 0.0217),\n",
       " (0.1044776119402985, 0.0218),\n",
       " (0.1044776119402985, 0.0219),\n",
       " (0.1044776119402985, 0.022000000000000002),\n",
       " (0.1044776119402985, 0.0221),\n",
       " (0.10370370370370369, 0.0222),\n",
       " (0.10218978102189781, 0.0223),\n",
       " (0.10218978102189781, 0.0224),\n",
       " (0.10218978102189781, 0.022500000000000003),\n",
       " (0.10218978102189781, 0.022600000000000002),\n",
       " (0.10071942446043165, 0.0227),\n",
       " (0.10071942446043165, 0.0228),\n",
       " (0.10071942446043165, 0.0229),\n",
       " (0.10071942446043165, 0.023),\n",
       " (0.10071942446043165, 0.023100000000000002),\n",
       " (0.10071942446043165, 0.023200000000000002),\n",
       " (0.10071942446043165, 0.0233),\n",
       " (0.10071942446043165, 0.0234),\n",
       " (0.09999999999999999, 0.0235),\n",
       " (0.09999999999999999, 0.0236),\n",
       " (0.09999999999999999, 0.023700000000000002),\n",
       " (0.09999999999999999, 0.0238),\n",
       " (0.09999999999999999, 0.0239),\n",
       " (0.09999999999999999, 0.024),\n",
       " (0.09999999999999999, 0.0241),\n",
       " (0.09999999999999999, 0.024200000000000003),\n",
       " (0.09999999999999999, 0.024300000000000002),\n",
       " (0.09929078014184398, 0.0244),\n",
       " (0.09929078014184398, 0.0245),\n",
       " (0.09929078014184398, 0.0246),\n",
       " (0.09929078014184398, 0.0247),\n",
       " (0.09929078014184398, 0.024800000000000003),\n",
       " (0.09929078014184398, 0.024900000000000002),\n",
       " (0.09929078014184398, 0.025),\n",
       " (0.09929078014184398, 0.0251),\n",
       " (0.09929078014184398, 0.0252),\n",
       " (0.09859154929577464, 0.0253),\n",
       " (0.09859154929577464, 0.025400000000000002),\n",
       " (0.09859154929577464, 0.025500000000000002),\n",
       " (0.09859154929577464, 0.0256),\n",
       " (0.09859154929577464, 0.0257),\n",
       " (0.09859154929577464, 0.0258),\n",
       " (0.0979020979020979, 0.025900000000000003),\n",
       " (0.0979020979020979, 0.026000000000000002),\n",
       " (0.0979020979020979, 0.0261),\n",
       " (0.0979020979020979, 0.0262),\n",
       " (0.0979020979020979, 0.0263),\n",
       " (0.0979020979020979, 0.0264),\n",
       " (0.0979020979020979, 0.026500000000000003),\n",
       " (0.0979020979020979, 0.026600000000000002),\n",
       " (0.0979020979020979, 0.0267),\n",
       " (0.09722222222222222, 0.0268),\n",
       " (0.09722222222222222, 0.0269),\n",
       " (0.09722222222222222, 0.027),\n",
       " (0.09722222222222222, 0.027100000000000003),\n",
       " (0.09722222222222222, 0.027200000000000002),\n",
       " (0.09722222222222222, 0.0273),\n",
       " (0.09722222222222222, 0.0274),\n",
       " (0.09655172413793102, 0.0275),\n",
       " (0.0958904109589041, 0.027600000000000003),\n",
       " (0.0958904109589041, 0.027700000000000002),\n",
       " (0.0958904109589041, 0.027800000000000002),\n",
       " (0.09523809523809525, 0.0279),\n",
       " (0.09459459459459459, 0.028),\n",
       " (0.09459459459459459, 0.0281),\n",
       " (0.09459459459459459, 0.028200000000000003),\n",
       " (0.09459459459459459, 0.028300000000000002),\n",
       " (0.09395973154362415, 0.0284),\n",
       " (0.09395973154362415, 0.0285),\n",
       " (0.09333333333333334, 0.0286),\n",
       " (0.09333333333333334, 0.0287),\n",
       " (0.09333333333333334, 0.028800000000000003),\n",
       " (0.09333333333333334, 0.028900000000000002),\n",
       " (0.09271523178807946, 0.029),\n",
       " (0.09271523178807946, 0.0291),\n",
       " (0.09271523178807946, 0.0292),\n",
       " (0.09210526315789473, 0.029300000000000003),\n",
       " (0.09210526315789473, 0.029400000000000003),\n",
       " (0.09210526315789473, 0.029500000000000002),\n",
       " (0.09210526315789473, 0.0296),\n",
       " (0.10457516339869281, 0.0297),\n",
       " (0.10457516339869281, 0.0298),\n",
       " (0.10389610389610389, 0.029900000000000003),\n",
       " (0.10389610389610389, 0.030000000000000002),\n",
       " (0.10389610389610389, 0.030100000000000002),\n",
       " (0.1032258064516129, 0.0302),\n",
       " (0.1032258064516129, 0.0303),\n",
       " (0.1032258064516129, 0.0304),\n",
       " (0.1032258064516129, 0.030500000000000003),\n",
       " (0.10191082802547771, 0.030600000000000002),\n",
       " (0.10191082802547771, 0.0307),\n",
       " (0.10191082802547771, 0.0308),\n",
       " (0.10126582278481013, 0.0309),\n",
       " (0.10126582278481013, 0.031),\n",
       " (0.10062893081761007, 0.031100000000000003),\n",
       " (0.1, 0.031200000000000002),\n",
       " (0.09937888198757765, 0.0313),\n",
       " (0.09876543209876543, 0.031400000000000004),\n",
       " (0.09876543209876543, 0.0315),\n",
       " (0.09876543209876543, 0.0316),\n",
       " (0.09876543209876543, 0.0317),\n",
       " (0.09876543209876543, 0.0318),\n",
       " (0.09876543209876543, 0.031900000000000005),\n",
       " (0.09815950920245399, 0.032),\n",
       " (0.0975609756097561, 0.032100000000000004),\n",
       " (0.0975609756097561, 0.0322),\n",
       " (0.0975609756097561, 0.0323),\n",
       " (0.0975609756097561, 0.0324),\n",
       " (0.0975609756097561, 0.0325),\n",
       " (0.0975609756097561, 0.032600000000000004),\n",
       " (0.0975609756097561, 0.0327),\n",
       " (0.0975609756097561, 0.0328),\n",
       " (0.0975609756097561, 0.0329),\n",
       " (0.09696969696969696, 0.033),\n",
       " (0.09696969696969696, 0.033100000000000004),\n",
       " (0.09523809523809523, 0.0332),\n",
       " (0.09523809523809523, 0.0333),\n",
       " (0.09523809523809523, 0.0334),\n",
       " (0.09467455621301775, 0.0335),\n",
       " (0.09467455621301775, 0.033600000000000005),\n",
       " (0.09467455621301775, 0.0337),\n",
       " (0.09467455621301775, 0.033800000000000004),\n",
       " (0.09467455621301775, 0.0339),\n",
       " (0.0935672514619883, 0.034),\n",
       " (0.09302325581395349, 0.0341),\n",
       " (0.09302325581395349, 0.0342),\n",
       " (0.09302325581395349, 0.034300000000000004),\n",
       " (0.09302325581395349, 0.0344),\n",
       " (0.09248554913294797, 0.0345),\n",
       " (0.09248554913294797, 0.0346),\n",
       " (0.09248554913294797, 0.0347),\n",
       " (0.09195402298850575, 0.034800000000000005),\n",
       " (0.09195402298850575, 0.0349),\n",
       " (0.09142857142857143, 0.035),\n",
       " (0.09142857142857143, 0.0351),\n",
       " (0.09142857142857143, 0.0352),\n",
       " (0.09142857142857143, 0.035300000000000005),\n",
       " (0.09142857142857143, 0.0354),\n",
       " (0.09090909090909091, 0.035500000000000004),\n",
       " (0.09090909090909091, 0.0356),\n",
       " (0.0903954802259887, 0.0357),\n",
       " (0.0903954802259887, 0.0358),\n",
       " (0.0903954802259887, 0.0359),\n",
       " (0.0903954802259887, 0.036000000000000004),\n",
       " (0.0903954802259887, 0.0361),\n",
       " (0.0903954802259887, 0.0362),\n",
       " (0.0903954802259887, 0.0363),\n",
       " (0.0903954802259887, 0.0364),\n",
       " (0.0903954802259887, 0.036500000000000005),\n",
       " (0.0903954802259887, 0.0366),\n",
       " (0.0898876404494382, 0.0367),\n",
       " (0.0898876404494382, 0.0368),\n",
       " (0.0898876404494382, 0.0369),\n",
       " (0.0898876404494382, 0.037000000000000005),\n",
       " (0.0898876404494382, 0.0371),\n",
       " (0.0898876404494382, 0.037200000000000004),\n",
       " (0.0898876404494382, 0.0373),\n",
       " (0.0898876404494382, 0.0374),\n",
       " (0.0898876404494382, 0.0375),\n",
       " (0.08938547486033518, 0.0376),\n",
       " (0.08888888888888889, 0.037700000000000004),\n",
       " (0.08839779005524862, 0.0378),\n",
       " (0.08839779005524862, 0.0379),\n",
       " (0.08839779005524862, 0.038),\n",
       " (0.08839779005524862, 0.0381),\n",
       " (0.08839779005524862, 0.038200000000000005),\n",
       " (0.08791208791208792, 0.0383),\n",
       " (0.08791208791208792, 0.038400000000000004),\n",
       " (0.08791208791208792, 0.0385),\n",
       " (0.08791208791208792, 0.0386),\n",
       " (0.08791208791208792, 0.038700000000000005),\n",
       " (0.08791208791208792, 0.0388),\n",
       " (0.08791208791208792, 0.038900000000000004),\n",
       " (0.08791208791208792, 0.039),\n",
       " (0.08743169398907104, 0.0391),\n",
       " (0.08743169398907104, 0.0392),\n",
       " (0.08743169398907104, 0.0393),\n",
       " (0.08695652173913045, 0.039400000000000004),\n",
       " (0.08695652173913045, 0.0395),\n",
       " (0.08648648648648649, 0.0396),\n",
       " (0.08648648648648649, 0.0397),\n",
       " (0.08648648648648649, 0.0398),\n",
       " (0.0855614973262032, 0.039900000000000005),\n",
       " (0.0855614973262032, 0.04),\n",
       " (0.08510638297872342, 0.040100000000000004),\n",
       " (0.08510638297872342, 0.0402),\n",
       " (0.08465608465608467, 0.0403),\n",
       " (0.08465608465608467, 0.040400000000000005),\n",
       " (0.08465608465608467, 0.0405),\n",
       " (0.08465608465608467, 0.040600000000000004),\n",
       " (0.08465608465608467, 0.0407),\n",
       " (0.08465608465608467, 0.0408),\n",
       " (0.08465608465608467, 0.0409),\n",
       " (0.08421052631578947, 0.041),\n",
       " (0.08376963350785341, 0.041100000000000005),\n",
       " (0.08376963350785341, 0.0412),\n",
       " (0.08333333333333333, 0.0413),\n",
       " (0.08333333333333333, 0.0414),\n",
       " (0.08290155440414508, 0.0415),\n",
       " (0.08290155440414508, 0.041600000000000005),\n",
       " (0.08290155440414508, 0.0417),\n",
       " (0.08290155440414508, 0.041800000000000004),\n",
       " (0.08290155440414508, 0.0419),\n",
       " (0.08290155440414508, 0.042),\n",
       " (0.08247422680412371, 0.042100000000000005),\n",
       " (0.08247422680412371, 0.0422),\n",
       " (0.08247422680412371, 0.042300000000000004),\n",
       " (0.08247422680412371, 0.0424),\n",
       " (0.08247422680412371, 0.0425),\n",
       " (0.08247422680412371, 0.0426),\n",
       " (0.08247422680412371, 0.0427),\n",
       " (0.08247422680412371, 0.042800000000000005),\n",
       " (0.08247422680412371, 0.0429),\n",
       " (0.08163265306122448, 0.043000000000000003),\n",
       " (0.08121827411167513, 0.0431),\n",
       " (0.08040201005025124, 0.0432),\n",
       " (0.07960199004975124, 0.043300000000000005),\n",
       " (0.07960199004975124, 0.0434),\n",
       " (0.07960199004975124, 0.043500000000000004),\n",
       " (0.07960199004975124, 0.0436),\n",
       " (0.07960199004975124, 0.0437),\n",
       " (0.0792079207920792, 0.0438),\n",
       " (0.0792079207920792, 0.0439),\n",
       " (0.0792079207920792, 0.044000000000000004),\n",
       " (0.0792079207920792, 0.0441),\n",
       " (0.07881773399014778, 0.0442),\n",
       " (0.07881773399014778, 0.0443),\n",
       " (0.07881773399014778, 0.0444),\n",
       " (0.0784313725490196, 0.044500000000000005),\n",
       " (0.0784313725490196, 0.0446),\n",
       " (0.0784313725490196, 0.044700000000000004),\n",
       " (0.0784313725490196, 0.0448),\n",
       " (0.0784313725490196, 0.0449),\n",
       " (0.0784313725490196, 0.045000000000000005),\n",
       " (0.0784313725490196, 0.0451),\n",
       " (0.0784313725490196, 0.045200000000000004),\n",
       " (0.0784313725490196, 0.0453),\n",
       " (0.07804878048780486, 0.0454),\n",
       " (0.07804878048780486, 0.0455),\n",
       " (0.07766990291262135, 0.0456),\n",
       " (0.07766990291262135, 0.045700000000000005),\n",
       " (0.07766990291262135, 0.0458),\n",
       " (0.07766990291262135, 0.0459),\n",
       " (0.07766990291262135, 0.046),\n",
       " (0.07766990291262135, 0.0461),\n",
       " (0.07766990291262135, 0.046200000000000005),\n",
       " (0.07766990291262135, 0.0463),\n",
       " (0.07766990291262135, 0.046400000000000004),\n",
       " (0.07766990291262135, 0.0465),\n",
       " (0.07729468599033817, 0.0466),\n",
       " (0.07729468599033817, 0.046700000000000005),\n",
       " (0.07729468599033817, 0.0468),\n",
       " (0.07729468599033817, 0.046900000000000004),\n",
       " (0.07729468599033817, 0.047),\n",
       " (0.07692307692307693, 0.0471),\n",
       " (0.07692307692307693, 0.0472),\n",
       " (0.07692307692307693, 0.0473),\n",
       " (0.07692307692307693, 0.047400000000000005),\n",
       " (0.07692307692307693, 0.0475),\n",
       " (0.07692307692307693, 0.0476),\n",
       " (0.07692307692307693, 0.0477),\n",
       " (0.07655502392344497, 0.0478),\n",
       " (0.07655502392344497, 0.047900000000000005),\n",
       " (0.07655502392344497, 0.048),\n",
       " (0.07655502392344497, 0.048100000000000004),\n",
       " (0.07655502392344497, 0.0482),\n",
       " (0.07619047619047618, 0.0483),\n",
       " (0.07619047619047618, 0.048400000000000006),\n",
       " (0.07619047619047618, 0.0485),\n",
       " (0.07619047619047618, 0.048600000000000004),\n",
       " (0.07619047619047618, 0.0487),\n",
       " (0.07619047619047618, 0.0488),\n",
       " (0.07582938388625592, 0.0489),\n",
       " (0.07582938388625592, 0.049),\n",
       " (0.07547169811320756, 0.049100000000000005),\n",
       " (0.07476635514018691, 0.0492),\n",
       " (0.07476635514018691, 0.049300000000000004),\n",
       " (0.07407407407407408, 0.0494),\n",
       " (0.07407407407407408, 0.0495),\n",
       " (0.07407407407407408, 0.049600000000000005),\n",
       " (0.07339449541284403, 0.0497),\n",
       " (0.07339449541284403, 0.049800000000000004),\n",
       " (0.07305936073059362, 0.0499),\n",
       " (0.07305936073059362, 0.05),\n",
       " (0.07305936073059362, 0.050100000000000006),\n",
       " (0.07272727272727274, 0.0502),\n",
       " (0.07272727272727274, 0.050300000000000004),\n",
       " (0.07272727272727274, 0.0504),\n",
       " (0.07239819004524886, 0.0505),\n",
       " (0.07239819004524886, 0.0506),\n",
       " (0.07239819004524886, 0.0507),\n",
       " (0.07239819004524886, 0.050800000000000005),\n",
       " (0.07207207207207207, 0.0509),\n",
       " (0.07207207207207207, 0.051000000000000004),\n",
       " (0.07207207207207207, 0.0511),\n",
       " (0.07174887892376682, 0.0512),\n",
       " (0.07174887892376682, 0.051300000000000005),\n",
       " (0.07142857142857142, 0.0514),\n",
       " (0.07142857142857142, 0.051500000000000004),\n",
       " (0.07142857142857142, 0.0516),\n",
       " (0.07079646017699116, 0.0517),\n",
       " (0.07048458149779736, 0.051800000000000006),\n",
       " (0.07048458149779736, 0.0519),\n",
       " (0.07048458149779736, 0.052000000000000005),\n",
       " (0.07048458149779736, 0.0521),\n",
       " (0.07048458149779736, 0.0522),\n",
       " (0.07048458149779736, 0.0523),\n",
       " (0.07048458149779736, 0.0524),\n",
       " (0.07048458149779736, 0.052500000000000005),\n",
       " (0.07048458149779736, 0.0526),\n",
       " (0.07048458149779736, 0.052700000000000004),\n",
       " (0.07048458149779736, 0.0528),\n",
       " (0.07048458149779736, 0.0529),\n",
       " (0.07017543859649122, 0.053000000000000005),\n",
       " (0.07017543859649122, 0.0531),\n",
       " (0.07017543859649122, 0.053200000000000004),\n",
       " (0.06986899563318777, 0.0533),\n",
       " (0.06986899563318777, 0.0534),\n",
       " (0.06956521739130436, 0.053500000000000006),\n",
       " (0.07758620689655173, 0.0536),\n",
       " (0.07758620689655173, 0.053700000000000005),\n",
       " (0.07725321888412018, 0.0538),\n",
       " (0.07725321888412018, 0.0539),\n",
       " (0.07725321888412018, 0.054),\n",
       " (0.07725321888412018, 0.0541),\n",
       " (0.07725321888412018, 0.054200000000000005),\n",
       " (0.07725321888412018, 0.0543),\n",
       " (0.07725321888412018, 0.054400000000000004),\n",
       " (0.07659574468085106, 0.0545),\n",
       " (0.07659574468085106, 0.0546),\n",
       " (0.07659574468085106, 0.054700000000000006),\n",
       " (0.07627118644067797, 0.0548),\n",
       " (0.07627118644067797, 0.054900000000000004),\n",
       " (0.07627118644067797, 0.055),\n",
       " (0.07627118644067797, 0.0551),\n",
       " (0.07627118644067797, 0.055200000000000006),\n",
       " (0.07594936708860758, 0.0553),\n",
       " (0.07594936708860758, 0.055400000000000005),\n",
       " (0.07594936708860758, 0.0555),\n",
       " (0.07594936708860758, 0.055600000000000004),\n",
       " (0.07594936708860758, 0.0557),\n",
       " (0.07594936708860758, 0.0558),\n",
       " (0.07594936708860758, 0.055900000000000005),\n",
       " (0.07594936708860758, 0.056),\n",
       " (0.07594936708860758, 0.056100000000000004),\n",
       " (0.07594936708860758, 0.0562),\n",
       " (0.07563025210084034, 0.0563),\n",
       " (0.07563025210084034, 0.056400000000000006),\n",
       " (0.07500000000000001, 0.0565),\n",
       " (0.07500000000000001, 0.056600000000000004),\n",
       " (0.07468879668049794, 0.0567),\n",
       " (0.07468879668049794, 0.0568),\n",
       " (0.07468879668049794, 0.056900000000000006),\n",
       " (0.07468879668049794, 0.057),\n",
       " (0.07468879668049794, 0.057100000000000005),\n",
       " (0.07407407407407407, 0.0572),\n",
       " (0.07407407407407407, 0.057300000000000004),\n",
       " (0.07407407407407407, 0.0574),\n",
       " (0.07407407407407407, 0.0575),\n",
       " (0.07407407407407407, 0.057600000000000005),\n",
       " (0.07407407407407407, 0.0577),\n",
       " (0.07407407407407407, 0.057800000000000004),\n",
       " (0.07377049180327869, 0.0579),\n",
       " (0.07346938775510205, 0.058),\n",
       " (0.07346938775510205, 0.058100000000000006),\n",
       " (0.07317073170731708, 0.0582),\n",
       " (0.07317073170731708, 0.058300000000000005),\n",
       " (0.07317073170731708, 0.0584),\n",
       " (0.07317073170731708, 0.0585),\n",
       " (0.07317073170731708, 0.058600000000000006),\n",
       " (0.07317073170731708, 0.0587),\n",
       " (0.07317073170731708, 0.058800000000000005),\n",
       " (0.07317073170731708, 0.0589),\n",
       " (0.07317073170731708, 0.059000000000000004),\n",
       " (0.07317073170731708, 0.0591),\n",
       " (0.07317073170731708, 0.0592),\n",
       " (0.07317073170731708, 0.059300000000000005),\n",
       " (0.07317073170731708, 0.0594),\n",
       " (0.07317073170731708, 0.059500000000000004),\n",
       " (0.07317073170731708, 0.0596),\n",
       " (0.07317073170731708, 0.0597),\n",
       " (0.07317073170731708, 0.059800000000000006),\n",
       " (0.07317073170731708, 0.0599),\n",
       " (0.07317073170731708, 0.060000000000000005),\n",
       " (0.07317073170731708, 0.0601),\n",
       " (0.07317073170731708, 0.060200000000000004),\n",
       " (0.07317073170731708, 0.0603),\n",
       " (0.0728744939271255, 0.0604),\n",
       " (0.07258064516129033, 0.060500000000000005),\n",
       " (0.07258064516129033, 0.0606),\n",
       " (0.07228915662650602, 0.060700000000000004),\n",
       " (0.07228915662650602, 0.0608),\n",
       " (0.07228915662650602, 0.0609),\n",
       " (0.072, 0.061000000000000006),\n",
       " (0.072, 0.0611),\n",
       " (0.07171314741035857, 0.061200000000000004),\n",
       " (0.07171314741035857, 0.0613),\n",
       " (0.07171314741035857, 0.0614),\n",
       " (0.07171314741035857, 0.061500000000000006),\n",
       " (0.07142857142857142, 0.0616),\n",
       " (0.07142857142857142, 0.061700000000000005),\n",
       " (0.07114624505928854, 0.0618),\n",
       " (0.07114624505928854, 0.061900000000000004),\n",
       " (0.07114624505928854, 0.062),\n",
       " (0.07086614173228348, 0.0621),\n",
       " (0.07058823529411765, 0.062200000000000005),\n",
       " (0.07058823529411765, 0.0623),\n",
       " (0.07058823529411765, 0.062400000000000004),\n",
       " (0.07058823529411765, 0.0625),\n",
       " (0.0703125, 0.0626),\n",
       " (0.0703125, 0.0627),\n",
       " (0.0703125, 0.06280000000000001),\n",
       " (0.07003891050583658, 0.0629),\n",
       " (0.06976744186046512, 0.063),\n",
       " (0.06976744186046512, 0.0631),\n",
       " (0.06949806949806948, 0.0632),\n",
       " (0.06949806949806948, 0.06330000000000001),\n",
       " (0.06949806949806948, 0.0634),\n",
       " (0.06949806949806948, 0.0635),\n",
       " (0.06949806949806948, 0.0636),\n",
       " (0.06949806949806948, 0.0637),\n",
       " (0.06949806949806948, 0.06380000000000001),\n",
       " (0.06923076923076923, 0.0639),\n",
       " (0.06923076923076923, 0.064),\n",
       " (0.06923076923076923, 0.0641),\n",
       " (0.06923076923076923, 0.06420000000000001),\n",
       " (0.06923076923076923, 0.06430000000000001),\n",
       " (0.06923076923076923, 0.0644),\n",
       " (0.06923076923076923, 0.0645),\n",
       " (0.06923076923076923, 0.0646),\n",
       " (0.06923076923076923, 0.06470000000000001),\n",
       " (0.06923076923076923, 0.0648),\n",
       " (0.06923076923076923, 0.0649),\n",
       " (0.06923076923076923, 0.065),\n",
       " (0.06923076923076923, 0.0651),\n",
       " (0.06923076923076923, 0.06520000000000001),\n",
       " (0.06923076923076923, 0.0653),\n",
       " (0.06923076923076923, 0.0654),\n",
       " (0.0689655172413793, 0.0655),\n",
       " (0.0689655172413793, 0.0656),\n",
       " (0.0689655172413793, 0.06570000000000001),\n",
       " (0.0689655172413793, 0.0658),\n",
       " (0.0689655172413793, 0.0659),\n",
       " (0.0689655172413793, 0.066),\n",
       " (0.0689655172413793, 0.0661),\n",
       " (0.06870229007633588, 0.06620000000000001),\n",
       " (0.06870229007633588, 0.0663),\n",
       " (0.06870229007633588, 0.0664),\n",
       " (0.06844106463878327, 0.0665),\n",
       " (0.06844106463878327, 0.0666),\n",
       " (0.06818181818181818, 0.06670000000000001),\n",
       " (0.06818181818181818, 0.0668),\n",
       " (0.06818181818181818, 0.0669),\n",
       " (0.06818181818181818, 0.067),\n",
       " (0.06818181818181818, 0.0671),\n",
       " (0.06792452830188679, 0.06720000000000001),\n",
       " (0.06792452830188679, 0.0673),\n",
       " (0.06792452830188679, 0.0674),\n",
       " (0.06741573033707865, 0.0675),\n",
       " (0.06741573033707865, 0.06760000000000001),\n",
       " (0.06741573033707865, 0.06770000000000001),\n",
       " (0.06741573033707865, 0.0678),\n",
       " (0.06716417910447761, 0.0679),\n",
       " (0.06716417910447761, 0.068),\n",
       " (0.06716417910447761, 0.06810000000000001),\n",
       " (0.06716417910447761, 0.0682),\n",
       " (0.06691449814126393, 0.0683),\n",
       " (0.06691449814126393, 0.0684),\n",
       " (0.06691449814126393, 0.0685),\n",
       " (0.06691449814126393, 0.06860000000000001),\n",
       " (0.06666666666666667, 0.0687),\n",
       " (0.06666666666666667, 0.0688),\n",
       " (0.06666666666666667, 0.0689),\n",
       " (0.06642066420664207, 0.069),\n",
       " (0.0661764705882353, 0.06910000000000001),\n",
       " (0.0661764705882353, 0.0692),\n",
       " (0.06593406593406592, 0.0693),\n",
       " (0.06593406593406592, 0.0694),\n",
       " (0.06593406593406592, 0.0695),\n",
       " (0.06569343065693431, 0.06960000000000001),\n",
       " (0.06569343065693431, 0.0697),\n",
       " (0.06545454545454546, 0.0698),\n",
       " (0.06545454545454546, 0.0699),\n",
       " (0.06545454545454546, 0.07),\n",
       " (0.06498194945848376, 0.07010000000000001),\n",
       " (0.06498194945848376, 0.0702),\n",
       " (0.06498194945848376, 0.0703),\n",
       " (0.06498194945848376, 0.0704),\n",
       " (0.06498194945848376, 0.07050000000000001),\n",
       " (0.06498194945848376, 0.07060000000000001),\n",
       " (0.06498194945848376, 0.0707),\n",
       " (0.06498194945848376, 0.0708),\n",
       " (0.06474820143884892, 0.0709),\n",
       " (0.06474820143884892, 0.07100000000000001),\n",
       " (0.0642857142857143, 0.0711),\n",
       " (0.0642857142857143, 0.0712),\n",
       " (0.0642857142857143, 0.0713),\n",
       " (0.0642857142857143, 0.0714),\n",
       " (0.0642857142857143, 0.07150000000000001),\n",
       " (0.0642857142857143, 0.0716),\n",
       " (0.06382978723404255, 0.0717),\n",
       " (0.06382978723404255, 0.0718),\n",
       " (0.06382978723404255, 0.0719),\n",
       " (0.06382978723404255, 0.07200000000000001),\n",
       " (0.06382978723404255, 0.0721),\n",
       " (0.06382978723404255, 0.0722),\n",
       " (0.06382978723404255, 0.0723),\n",
       " (0.06382978723404255, 0.0724),\n",
       " (0.06382978723404255, 0.07250000000000001),\n",
       " (0.06382978723404255, 0.0726),\n",
       " (0.06382978723404255, 0.0727),\n",
       " (0.06382978723404255, 0.0728),\n",
       " (0.06382978723404255, 0.0729),\n",
       " (0.06360424028268552, 0.07300000000000001),\n",
       " (0.06338028169014084, 0.0731),\n",
       " (0.06338028169014084, 0.0732),\n",
       " (0.06338028169014084, 0.0733),\n",
       " (0.06293706293706293, 0.0734),\n",
       " (0.06293706293706293, 0.07350000000000001),\n",
       " (0.06293706293706293, 0.0736),\n",
       " (0.0627177700348432, 0.0737),\n",
       " (0.0627177700348432, 0.0738),\n",
       " (0.0627177700348432, 0.07390000000000001),\n",
       " (0.0627177700348432, 0.07400000000000001),\n",
       " (0.0627177700348432, 0.0741),\n",
       " (0.0627177700348432, 0.0742),\n",
       " (0.0627177700348432, 0.0743),\n",
       " (0.0627177700348432, 0.07440000000000001),\n",
       " (0.0627177700348432, 0.0745),\n",
       " (0.0627177700348432, 0.0746),\n",
       " (0.0627177700348432, 0.0747),\n",
       " (0.0627177700348432, 0.0748),\n",
       " (0.0627177700348432, 0.07490000000000001),\n",
       " (0.0627177700348432, 0.075),\n",
       " (0.0627177700348432, 0.0751),\n",
       " (0.0627177700348432, 0.0752),\n",
       " (0.0627177700348432, 0.0753),\n",
       " (0.0627177700348432, 0.07540000000000001),\n",
       " (0.0627177700348432, 0.0755),\n",
       " (0.0627177700348432, 0.0756),\n",
       " (0.0625, 0.0757),\n",
       " (0.0625, 0.0758),\n",
       " (0.0625, 0.07590000000000001),\n",
       " (0.0625, 0.076),\n",
       " (0.06228373702422146, 0.0761),\n",
       " (0.06228373702422146, 0.0762),\n",
       " (0.06206896551724138, 0.0763),\n",
       " (0.06206896551724138, 0.07640000000000001),\n",
       " (0.06206896551724138, 0.0765),\n",
       " (0.06206896551724138, 0.0766),\n",
       " (0.06206896551724138, 0.0767),\n",
       " (0.06206896551724138, 0.07680000000000001),\n",
       " (0.06206896551724138, 0.07690000000000001),\n",
       " (0.06206896551724138, 0.077),\n",
       " (0.06206896551724138, 0.0771),\n",
       " (0.06185567010309278, 0.0772),\n",
       " (0.06164383561643835, 0.07730000000000001),\n",
       " (0.06164383561643835, 0.07740000000000001),\n",
       " (0.06143344709897611, 0.0775),\n",
       " (0.06143344709897611, 0.0776),\n",
       " (0.06143344709897611, 0.0777),\n",
       " (0.061224489795918366, 0.07780000000000001),\n",
       " (0.061224489795918366, 0.0779),\n",
       " (0.061224489795918366, 0.078),\n",
       " (0.06101694915254238, 0.0781),\n",
       " (0.06101694915254238, 0.0782),\n",
       " (0.060810810810810814, 0.07830000000000001),\n",
       " (0.060810810810810814, 0.0784),\n",
       " (0.060810810810810814, 0.0785),\n",
       " (0.060810810810810814, 0.0786),\n",
       " (0.060402684563758385, 0.0787),\n",
       " (0.060402684563758385, 0.07880000000000001),\n",
       " (0.060402684563758385, 0.0789),\n",
       " (0.060402684563758385, 0.079),\n",
       " (0.060402684563758385, 0.0791),\n",
       " (0.060402684563758385, 0.0792),\n",
       " (0.060402684563758385, 0.07930000000000001),\n",
       " (0.060402684563758385, 0.0794),\n",
       " (0.060402684563758385, 0.0795),\n",
       " (0.06020066889632107, 0.0796),\n",
       " (0.06020066889632107, 0.07970000000000001),\n",
       " (0.06020066889632107, 0.07980000000000001),\n",
       " (0.06020066889632107, 0.0799),\n",
       " (0.06020066889632107, 0.08),\n",
       " (0.06020066889632107, 0.0801),\n",
       " (0.06020066889632107, 0.08020000000000001),\n",
       " (0.06020066889632107, 0.08030000000000001),\n",
       " (0.06020066889632107, 0.0804),\n",
       " (0.06020066889632107, 0.0805),\n",
       " (0.06020066889632107, 0.0806),\n",
       " (0.06020066889632107, 0.08070000000000001),\n",
       " (0.06020066889632107, 0.08080000000000001),\n",
       " (0.06020066889632107, 0.0809),\n",
       " (0.06020066889632107, 0.081),\n",
       " (0.06020066889632107, 0.0811),\n",
       " (0.06020066889632107, 0.08120000000000001),\n",
       " (0.06020066889632107, 0.0813),\n",
       " (0.06020066889632107, 0.0814),\n",
       " (0.06020066889632107, 0.0815),\n",
       " (0.06000000000000001, 0.0816),\n",
       " (0.05980066445182724, 0.08170000000000001),\n",
       " (0.05980066445182724, 0.0818),\n",
       " (0.05980066445182724, 0.0819),\n",
       " (0.05980066445182724, 0.082),\n",
       " (0.05980066445182724, 0.0821),\n",
       " (0.05980066445182724, 0.08220000000000001),\n",
       " (0.059602649006622516, 0.0823),\n",
       " (0.059602649006622516, 0.0824),\n",
       " (0.05940594059405941, 0.0825),\n",
       " (0.05940594059405941, 0.0826),\n",
       " (0.05940594059405941, 0.08270000000000001),\n",
       " (0.05940594059405941, 0.0828),\n",
       " (0.05940594059405941, 0.0829),\n",
       " (0.05921052631578948, 0.083),\n",
       " (0.05921052631578948, 0.08310000000000001),\n",
       " (0.05921052631578948, 0.08320000000000001),\n",
       " (0.05921052631578948, 0.0833),\n",
       " (0.05921052631578948, 0.0834),\n",
       " (0.05921052631578948, 0.0835),\n",
       " (0.05921052631578948, 0.08360000000000001),\n",
       " (0.05921052631578948, 0.08370000000000001),\n",
       " (0.05921052631578948, 0.0838),\n",
       " (0.05921052631578948, 0.0839),\n",
       " (0.05921052631578948, 0.084),\n",
       " (0.05921052631578948, 0.08410000000000001),\n",
       " (0.05921052631578948, 0.08420000000000001),\n",
       " (0.05921052631578948, 0.0843),\n",
       " (0.05921052631578948, 0.0844),\n",
       " (0.05921052631578948, 0.0845),\n",
       " (0.05921052631578948, 0.08460000000000001),\n",
       " (0.05921052631578948, 0.0847),\n",
       " (0.05921052631578948, 0.0848),\n",
       " (0.05901639344262295, 0.0849),\n",
       " (0.05901639344262295, 0.085),\n",
       " (0.05901639344262295, 0.08510000000000001),\n",
       " (0.05882352941176471, 0.0852),\n",
       " (0.05882352941176471, 0.0853),\n",
       " (0.05882352941176471, 0.0854),\n",
       " (0.05882352941176471, 0.0855),\n",
       " (0.05882352941176471, 0.08560000000000001),\n",
       " (0.05882352941176471, 0.0857),\n",
       " (0.05882352941176471, 0.0858),\n",
       " (0.05882352941176471, 0.0859),\n",
       " (0.05882352941176471, 0.08600000000000001),\n",
       " (0.05863192182410424, 0.08610000000000001),\n",
       " (0.05844155844155845, 0.0862),\n",
       " (0.058252427184466014, 0.0863),\n",
       " (0.058252427184466014, 0.0864),\n",
       " (0.058252427184466014, 0.08650000000000001),\n",
       " (0.058252427184466014, 0.08660000000000001),\n",
       " (0.058252427184466014, 0.0867),\n",
       " (0.058252427184466014, 0.0868),\n",
       " (0.058252427184466014, 0.0869),\n",
       " (0.058252427184466014, 0.08700000000000001),\n",
       " (0.058252427184466014, 0.08710000000000001),\n",
       " (0.058064516129032254, 0.0872),\n",
       " (0.058064516129032254, 0.0873),\n",
       " (0.058064516129032254, 0.0874),\n",
       " (0.058064516129032254, 0.08750000000000001),\n",
       " (0.05787781350482315, 0.0876),\n",
       " (0.05787781350482315, 0.0877),\n",
       " (0.05787781350482315, 0.0878),\n",
       " (0.05787781350482315, 0.0879),\n",
       " (0.05787781350482315, 0.08800000000000001),\n",
       " (0.05787781350482315, 0.0881),\n",
       " (0.05787781350482315, 0.0882),\n",
       " (0.05787781350482315, 0.0883),\n",
       " (0.05787781350482315, 0.0884),\n",
       " (0.05769230769230769, 0.08850000000000001),\n",
       " (0.05769230769230769, 0.0886),\n",
       " (0.05769230769230769, 0.0887),\n",
       " (0.05769230769230769, 0.0888),\n",
       " (0.05750798722044728, 0.0889),\n",
       " (0.05750798722044728, 0.08900000000000001),\n",
       " (0.05750798722044728, 0.0891),\n",
       " (0.05750798722044728, 0.0892),\n",
       " (0.05750798722044728, 0.0893),\n",
       " (0.05750798722044728, 0.08940000000000001),\n",
       " (0.05750798722044728, 0.08950000000000001),\n",
       " (0.057324840764331204, 0.0896),\n",
       " (0.057324840764331204, 0.0897),\n",
       " (0.05714285714285715, 0.0898),\n",
       " (0.05714285714285715, 0.08990000000000001),\n",
       " (0.056962025316455694, 0.09000000000000001),\n",
       " (0.056962025316455694, 0.0901),\n",
       " (0.056962025316455694, 0.0902),\n",
       " (0.056962025316455694, 0.0903),\n",
       " (0.056962025316455694, 0.09040000000000001),\n",
       " (0.056962025316455694, 0.09050000000000001),\n",
       " (0.056962025316455694, 0.0906),\n",
       " (0.056962025316455694, 0.0907),\n",
       " (0.056962025316455694, 0.0908),\n",
       " (0.056962025316455694, 0.09090000000000001),\n",
       " (0.056962025316455694, 0.091),\n",
       " (0.056962025316455694, 0.0911),\n",
       " (0.056962025316455694, 0.0912),\n",
       " (0.056962025316455694, 0.0913),\n",
       " (0.056962025316455694, 0.09140000000000001),\n",
       " (0.056962025316455694, 0.0915),\n",
       " (0.056962025316455694, 0.0916),\n",
       " (0.056962025316455694, 0.0917),\n",
       " (0.056962025316455694, 0.0918),\n",
       " (0.056962025316455694, 0.09190000000000001),\n",
       " (0.056962025316455694, 0.092),\n",
       " (0.056962025316455694, 0.0921),\n",
       " (0.056962025316455694, 0.0922),\n",
       " (0.056962025316455694, 0.09230000000000001),\n",
       " (0.056962025316455694, 0.09240000000000001),\n",
       " (0.056962025316455694, 0.0925),\n",
       " (0.056962025316455694, 0.0926),\n",
       " (0.056962025316455694, 0.0927),\n",
       " (0.056962025316455694, 0.09280000000000001),\n",
       " (0.056962025316455694, 0.09290000000000001),\n",
       " (0.056962025316455694, 0.093),\n",
       " (0.056962025316455694, 0.0931),\n",
       " (0.056962025316455694, 0.0932),\n",
       " (0.056962025316455694, 0.09330000000000001),\n",
       " (0.056962025316455694, 0.09340000000000001),\n",
       " (0.056962025316455694, 0.0935),\n",
       " (0.056962025316455694, 0.0936),\n",
       " (0.056962025316455694, 0.0937),\n",
       " (0.056962025316455694, 0.09380000000000001),\n",
       " (0.056962025316455694, 0.09390000000000001),\n",
       " (0.056962025316455694, 0.094),\n",
       " (0.056962025316455694, 0.0941),\n",
       " (0.056962025316455694, 0.0942),\n",
       " (0.056962025316455694, 0.09430000000000001),\n",
       " (0.056962025316455694, 0.0944),\n",
       " (0.056962025316455694, 0.0945),\n",
       " (0.056962025316455694, 0.0946),\n",
       " (0.056962025316455694, 0.0947),\n",
       " (0.056962025316455694, 0.09480000000000001),\n",
       " (0.056962025316455694, 0.0949),\n",
       " (0.056962025316455694, 0.095),\n",
       " (0.056962025316455694, 0.0951),\n",
       " (0.056962025316455694, 0.0952),\n",
       " (0.056962025316455694, 0.09530000000000001),\n",
       " (0.056962025316455694, 0.0954),\n",
       " (0.056962025316455694, 0.0955),\n",
       " (0.056962025316455694, 0.0956),\n",
       " (0.056962025316455694, 0.09570000000000001),\n",
       " (0.056962025316455694, 0.09580000000000001),\n",
       " (0.056962025316455694, 0.0959),\n",
       " (0.056962025316455694, 0.096),\n",
       " (0.056962025316455694, 0.0961),\n",
       " (0.056962025316455694, 0.09620000000000001),\n",
       " (0.056962025316455694, 0.09630000000000001),\n",
       " (0.056962025316455694, 0.0964),\n",
       " (0.056962025316455694, 0.0965),\n",
       " (0.056962025316455694, 0.0966),\n",
       " (0.056962025316455694, 0.09670000000000001),\n",
       " (0.056962025316455694, 0.09680000000000001),\n",
       " (0.056962025316455694, 0.0969),\n",
       " (0.056962025316455694, 0.097),\n",
       " (0.056962025316455694, 0.0971),\n",
       " (0.056962025316455694, 0.09720000000000001),\n",
       " (0.056962025316455694, 0.09730000000000001),\n",
       " (0.056962025316455694, 0.0974),\n",
       " (0.056962025316455694, 0.0975),\n",
       " (0.056962025316455694, 0.0976),\n",
       " (0.056962025316455694, 0.09770000000000001),\n",
       " (0.056962025316455694, 0.0978),\n",
       " (0.056962025316455694, 0.0979),\n",
       " (0.056962025316455694, 0.098),\n",
       " (0.056962025316455694, 0.0981),\n",
       " (0.056962025316455694, 0.09820000000000001),\n",
       " (0.056962025316455694, 0.0983),\n",
       " (0.056962025316455694, 0.0984),\n",
       " (0.056962025316455694, 0.0985),\n",
       " (0.056962025316455694, 0.09860000000000001),\n",
       " (0.056962025316455694, 0.09870000000000001),\n",
       " (0.056962025316455694, 0.0988),\n",
       " (0.056962025316455694, 0.0989),\n",
       " (0.056962025316455694, 0.099),\n",
       " (0.056962025316455694, 0.09910000000000001),\n",
       " (0.056962025316455694, 0.09920000000000001),\n",
       " (0.056962025316455694, 0.0993),\n",
       " (0.056962025316455694, 0.0994),\n",
       " (0.056962025316455694, 0.0995),\n",
       " (0.056962025316455694, 0.09960000000000001),\n",
       " (0.056962025316455694, 0.09970000000000001),\n",
       " (0.056962025316455694, 0.0998),\n",
       " (0.056962025316455694, 0.0999),\n",
       " ...]"
      ]
     },
     "execution_count": 47,
     "metadata": {},
     "output_type": "execute_result"
    }
   ],
   "source": [
    "f"
   ]
  },
  {
   "cell_type": "code",
   "execution_count": 53,
   "metadata": {},
   "outputs": [
    {
     "name": "stderr",
     "output_type": "stream",
     "text": [
      "C:\\Users\\User-hst\\AppData\\Local\\Temp/ipykernel_14272/1111866567.py:7: MatplotlibDeprecationWarning: Calling gca() with keyword arguments was deprecated in Matplotlib 3.4. Starting two minor releases later, gca() will take no keyword arguments. The gca() function should only be used to get the current axes, or if no axes exist, create new axes with default keyword arguments. To create a new axes with non-default arguments, use plt.axes() or plt.subplot().\n",
      "  ax = fig.gca(projection='3d')  # Affichage en 3D\n"
     ]
    },
    {
     "ename": "ValueError",
     "evalue": "Argument Z must be 2-dimensional.",
     "output_type": "error",
     "traceback": [
      "\u001b[1;31m---------------------------------------------------------------------------\u001b[0m",
      "\u001b[1;31mValueError\u001b[0m                                Traceback (most recent call last)",
      "\u001b[1;32m~\\AppData\\Local\\Temp/ipykernel_14272/1111866567.py\u001b[0m in \u001b[0;36m<module>\u001b[1;34m\u001b[0m\n\u001b[0;32m      6\u001b[0m \u001b[0mfig\u001b[0m \u001b[1;33m=\u001b[0m \u001b[0mplt\u001b[0m\u001b[1;33m.\u001b[0m\u001b[0mfigure\u001b[0m\u001b[1;33m(\u001b[0m\u001b[1;33m)\u001b[0m\u001b[1;33m\u001b[0m\u001b[1;33m\u001b[0m\u001b[0m\n\u001b[0;32m      7\u001b[0m \u001b[0max\u001b[0m \u001b[1;33m=\u001b[0m \u001b[0mfig\u001b[0m\u001b[1;33m.\u001b[0m\u001b[0mgca\u001b[0m\u001b[1;33m(\u001b[0m\u001b[0mprojection\u001b[0m\u001b[1;33m=\u001b[0m\u001b[1;34m'3d'\u001b[0m\u001b[1;33m)\u001b[0m  \u001b[1;31m# Affichage en 3D\u001b[0m\u001b[1;33m\u001b[0m\u001b[1;33m\u001b[0m\u001b[0m\n\u001b[1;32m----> 8\u001b[1;33m \u001b[0max\u001b[0m\u001b[1;33m.\u001b[0m\u001b[0mplot_surface\u001b[0m\u001b[1;33m(\u001b[0m\u001b[0mX\u001b[0m\u001b[1;33m[\u001b[0m\u001b[1;33m:\u001b[0m\u001b[1;33m,\u001b[0m\u001b[1;36m0\u001b[0m\u001b[1;33m]\u001b[0m\u001b[1;33m,\u001b[0m \u001b[0mX\u001b[0m\u001b[1;33m[\u001b[0m\u001b[1;33m:\u001b[0m\u001b[1;33m,\u001b[0m\u001b[1;36m1\u001b[0m\u001b[1;33m]\u001b[0m\u001b[1;33m,\u001b[0m \u001b[0myprob\u001b[0m\u001b[1;33m,\u001b[0m \u001b[0mcmap\u001b[0m\u001b[1;33m=\u001b[0m\u001b[0mcm\u001b[0m\u001b[1;33m.\u001b[0m\u001b[0mcoolwarm\u001b[0m\u001b[1;33m,\u001b[0m \u001b[0mlinewidth\u001b[0m\u001b[1;33m=\u001b[0m\u001b[1;36m0\u001b[0m\u001b[1;33m)\u001b[0m  \u001b[1;31m# Tracé d'une surface\u001b[0m\u001b[1;33m\u001b[0m\u001b[1;33m\u001b[0m\u001b[0m\n\u001b[0m",
      "\u001b[1;32m~\\anaconda3\\lib\\site-packages\\matplotlib\\_api\\deprecation.py\u001b[0m in \u001b[0;36mwrapper\u001b[1;34m(*inner_args, **inner_kwargs)\u001b[0m\n\u001b[0;32m    429\u001b[0m                          \u001b[1;32melse\u001b[0m \u001b[0mdeprecation_addendum\u001b[0m\u001b[1;33m,\u001b[0m\u001b[1;33m\u001b[0m\u001b[1;33m\u001b[0m\u001b[0m\n\u001b[0;32m    430\u001b[0m                 **kwargs)\n\u001b[1;32m--> 431\u001b[1;33m         \u001b[1;32mreturn\u001b[0m \u001b[0mfunc\u001b[0m\u001b[1;33m(\u001b[0m\u001b[1;33m*\u001b[0m\u001b[0minner_args\u001b[0m\u001b[1;33m,\u001b[0m \u001b[1;33m**\u001b[0m\u001b[0minner_kwargs\u001b[0m\u001b[1;33m)\u001b[0m\u001b[1;33m\u001b[0m\u001b[1;33m\u001b[0m\u001b[0m\n\u001b[0m\u001b[0;32m    432\u001b[0m \u001b[1;33m\u001b[0m\u001b[0m\n\u001b[0;32m    433\u001b[0m     \u001b[1;32mreturn\u001b[0m \u001b[0mwrapper\u001b[0m\u001b[1;33m\u001b[0m\u001b[1;33m\u001b[0m\u001b[0m\n",
      "\u001b[1;32m~\\anaconda3\\lib\\site-packages\\mpl_toolkits\\mplot3d\\axes3d.py\u001b[0m in \u001b[0;36mplot_surface\u001b[1;34m(self, X, Y, Z, norm, vmin, vmax, lightsource, *args, **kwargs)\u001b[0m\n\u001b[0;32m   1656\u001b[0m \u001b[1;33m\u001b[0m\u001b[0m\n\u001b[0;32m   1657\u001b[0m         \u001b[1;32mif\u001b[0m \u001b[0mZ\u001b[0m\u001b[1;33m.\u001b[0m\u001b[0mndim\u001b[0m \u001b[1;33m!=\u001b[0m \u001b[1;36m2\u001b[0m\u001b[1;33m:\u001b[0m\u001b[1;33m\u001b[0m\u001b[1;33m\u001b[0m\u001b[0m\n\u001b[1;32m-> 1658\u001b[1;33m             \u001b[1;32mraise\u001b[0m \u001b[0mValueError\u001b[0m\u001b[1;33m(\u001b[0m\u001b[1;34m\"Argument Z must be 2-dimensional.\"\u001b[0m\u001b[1;33m)\u001b[0m\u001b[1;33m\u001b[0m\u001b[1;33m\u001b[0m\u001b[0m\n\u001b[0m\u001b[0;32m   1659\u001b[0m         \u001b[1;32mif\u001b[0m \u001b[0mnp\u001b[0m\u001b[1;33m.\u001b[0m\u001b[0many\u001b[0m\u001b[1;33m(\u001b[0m\u001b[0mnp\u001b[0m\u001b[1;33m.\u001b[0m\u001b[0misnan\u001b[0m\u001b[1;33m(\u001b[0m\u001b[0mZ\u001b[0m\u001b[1;33m)\u001b[0m\u001b[1;33m)\u001b[0m\u001b[1;33m:\u001b[0m\u001b[1;33m\u001b[0m\u001b[1;33m\u001b[0m\u001b[0m\n\u001b[0;32m   1660\u001b[0m             _api.warn_external(\n",
      "\u001b[1;31mValueError\u001b[0m: Argument Z must be 2-dimensional."
     ]
    },
    {
     "data": {
      "image/png": "[encoded data removed]",
      "text/plain": [
       "<Figure size 432x288 with 1 Axes>"
      ]
     },
     "metadata": {
      "needs_background": "light"
     },
     "output_type": "display_data"
    }
   ],
   "source": [
    "\n",
    "import matplotlib.pyplot as plt\n",
    "from mpl_toolkits.mplot3d import axes3d  # Fonction pour la 3D\n",
    "from matplotlib import cm\n",
    "from matplotlib.ticker import LinearLocator, FormatStrFormatter\n",
    "import numpy as np\n",
    "fig = plt.figure()\n",
    "ax = fig.gca(projection='3d')  # Affichage en 3D\n",
    "ax.plot_surface(X[:,0], X[:,1], yprob, cmap=cm.coolwarm, linewidth=0)  # Tracé d'une surface\n"
   ]
  },
  {
   "cell_type": "code",
   "execution_count": null,
   "metadata": {},
   "outputs": [],
   "source": []
  },
  {
   "cell_type": "markdown",
   "metadata": {
    "id": "c47rKy1pzsYG"
   },
   "source": [
    "# Travail à faire\n",
    "- 1) Nous aimerions bien choisir le epsilon \n",
    "\n",
    "\n"
   ]
  },
  {
   "cell_type": "markdown",
   "metadata": {
    "id": "1q-8odoLzsYH"
   },
   "source": [
    "# Consignes"
   ]
  },
  {
   "cell_type": "markdown",
   "metadata": {
    "id": "pwLYNnstzsYI"
   },
   "source": [
    "Le travail est à remettre par groupe de 4 au maximum [1..4].\n",
    "\n",
    "Le délai est le Lundi 23 Mai 2022 à 22h\n"
   ]
  },
  {
   "cell_type": "code",
   "execution_count": null,
   "metadata": {
    "id": "Sfv9XEQ1zsYI"
   },
   "outputs": [],
   "source": [
    "# bonne chance"
   ]
  }
 ],
 "metadata": {
  "colab": {
   "name": "TP DG.ipynb",
   "provenance": [
    {
     "file_id": "104d6umzYUZE1v5l5Lmbaj6kS5h49L0Rs",
     "timestamp": 1652250571890
    }
   ]
  },
  "kernelspec": {
   "display_name": "Python 3 (ipykernel)",
   "language": "python",
   "name": "python3"
  },
  "language_info": {
   "codemirror_mode": {
    "name": "ipython",
    "version": 3
   },
   "file_extension": ".py",
   "mimetype": "text/x-python",
   "name": "python",
   "nbconvert_exporter": "python",
   "pygments_lexer": "ipython3",
   "version": "3.9.7"
  }
 },
 "nbformat": 4,
 "nbformat_minor": 1
}
