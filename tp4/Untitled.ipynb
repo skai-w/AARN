{
 "cells": [
  {
   "cell_type": "code",
   "execution_count": 7,
   "id": "5b117f9c",
   "metadata": {},
   "outputs": [
    {
     "name": "stdout",
     "output_type": "stream",
     "text": [
      "[[0.]\n",
      " [0.]\n",
      " [0.]]\n",
      "[[0.]]\n"
     ]
    }
   ],
   "source": [
    "import numpy as np \n",
    "theta = np.zeros((3, 1))\n",
    "print(theta)\n",
    "the= theta[2:]** 2\n",
    "print(the)\n"
   ]
  },
  {
   "cell_type": "code",
   "execution_count": null,
   "id": "d7db731a",
   "metadata": {},
   "outputs": [],
   "source": []
  }
 ],
 "metadata": {
  "kernelspec": {
   "display_name": "Python 3 (ipykernel)",
   "language": "python",
   "name": "python3"
  },
  "language_info": {
   "codemirror_mode": {
    "name": "ipython",
    "version": 3
   },
   "file_extension": ".py",
   "mimetype": "text/x-python",
   "name": "python",
   "nbconvert_exporter": "python",
   "pygments_lexer": "ipython3",
   "version": "3.9.7"
  }
 },
 "nbformat": 4,
 "nbformat_minor": 5
}
