{
 "cells": [
  {
   "cell_type": "markdown",
   "metadata": {},
   "source": [
    "# TP 3 Regression linéaire\n",
    "Dans ce TP, nous aimerions prédire l'admission d'un étudiant à une specialité donnée selon ses notes dans deux matières.\n",
    "\n",
    "Pour ce faire, nous étudierons un ensemble de données avec l'admission  (y) et les notes des deux modules (X).\n",
    "\n",
    "La prédiction se fera avec l'agorithme de descente du gradient."
   ]
  },
  {
   "cell_type": "markdown",
   "metadata": {},
   "source": [
    "# Importation des librairies necessaires au travail"
   ]
  },
  {
   "cell_type": "code",
   "execution_count": 4,
   "metadata": {},
   "outputs": [],
   "source": [
    "import numpy as np\n",
    "import matplotlib.pyplot as plt\n",
    "import time as time"
   ]
  },
  {
   "cell_type": "markdown",
   "metadata": {},
   "source": [
    "# Lecture des fichiers de données\n",
    "Pour ce TP, nous allons lire les données à partir d'un fichier csv."
   ]
  },
  {
   "cell_type": "code",
   "execution_count": 5,
   "metadata": {},
   "outputs": [
    {
     "data": {
      "text/plain": [
       "(100, 3)"
      ]
     },
     "execution_count": 5,
     "metadata": {},
     "output_type": "execute_result"
    }
   ],
   "source": [
    "# données\n",
    "data = np.genfromtxt('data.csv', delimiter=',', dtype=int)\n",
    "data.shape"
   ]
  },
  {
   "cell_type": "markdown",
   "metadata": {},
   "source": [
    "Dans ces données (data), la première colonne represente la première note, la deuxieme colonne la deuxième note et la troisième colonne represente l'admission à la specialité (1 admis 0 non admis).\n",
    "\n",
    "Chaque ligne represente un exemple de notre ensemble de données. \n",
    "\n",
    "Mettons ces données dans leus vecteurs correspondants."
   ]
  },
  {
   "cell_type": "code",
   "execution_count": 3,
   "metadata": {},
   "outputs": [],
   "source": [
    "# rajoutons l'ordonnée à l'origine theta 0\n",
    "intercept=np.ones((data.shape[0],1))\n",
    "X=np.column_stack((intercept,data[:,0:2]))\n",
    "y = data[:, 2];"
   ]
  },
  {
   "cell_type": "code",
   "execution_count": 4,
   "metadata": {},
   "outputs": [
    {
     "name": "stdout",
     "output_type": "stream",
     "text": [
      "X (100, 3)  y  (100,)\n"
     ]
    }
   ],
   "source": [
    "print('X', X.shape ,' y ', y.shape)"
   ]
  },
  {
   "cell_type": "markdown",
   "metadata": {},
   "source": [
    "# Descente du Gradient : Préparation des fonctions"
   ]
  },
  {
   "cell_type": "markdown",
   "metadata": {},
   "source": [
    "0- Fonction mpgistique (Sigmoid)"
   ]
  },
  {
   "cell_type": "code",
   "execution_count": 5,
   "metadata": {},
   "outputs": [],
   "source": [
    "def sigmoid(z):\n",
    "    # pour une valeur donnée, cette fonction calculera sa sigmoid\n",
    "    return 1/(1+np.exp(-z))\n",
    " "
   ]
  },
  {
   "cell_type": "markdown",
   "metadata": {},
   "source": [
    "1- Calcul du coût\n",
    "\n",
    "Cette fonction servira à calculer le cout $J(\\theta_0,\\theta_1)$\n",
    "\n",
    "Elle prendra l'ensemble de données d'apprentissage en entrée ainsi que les paramètres définis initialement"
   ]
  },
  {
   "cell_type": "code",
   "execution_count": 6,
   "metadata": {},
   "outputs": [],
   "source": [
    "def computeCost(X, y, theta):\n",
    "    # idéalement, tracer le coût à chaque itération pour s'assurer que la descente du gradient est correcte\n",
    "    start = time.time()\n",
    "    z = np.dot(X,theta)\n",
    "    cost0 = y.T.dot(np.log(sigmoid(z)))\n",
    "    cost1 = ((1-y).T).dot(np.log(1-sigmoid(z)))\n",
    "    cost = -((cost1 + cost0))/len(y) \n",
    "    end = time.time()\n",
    "    return  cost, format(end-start)\n",
    "    \n",
    "  "
   ]
  },
  {
   "cell_type": "markdown",
   "metadata": {},
   "source": [
    "2- Fonction de la descente du gradient\n",
    "\n",
    "Cette fonction mettra à jour les paramètres $\\theta_0,\\theta_1$ jusqu'à convergence: atteinte du nombre d'itérations max, ou dérivée assez petite."
   ]
  },
  {
   "cell_type": "code",
   "execution_count": 7,
   "metadata": {},
   "outputs": [],
   "source": [
    "def gradientDescent(X, y, theta, alpha, iterations):\n",
    "    # garder aussi le cout à chaque itération \n",
    "    m = len(y)\n",
    "    cost_list = np.zeros((iterations,1))\n",
    "    tmp = np.zeros((iterations,1))\n",
    "    for i in range(iterations):\n",
    "        theta = theta - (alpha/m) * np.dot(X.T, np.dot(X, theta)-y.reshape((m,1)))\n",
    "        cost_list[i] ,tmp[i] = computeCost(X,y,theta)\n",
    "    \n",
    "    return theta, cost_list , tmp"
   ]
  },
  {
   "cell_type": "markdown",
   "metadata": {},
   "source": [
    "# Descente du Gradient : Appel des fonctions"
   ]
  },
  {
   "cell_type": "markdown",
   "metadata": {},
   "source": [
    "Initialisation de $\\theta_0$ et $\\theta_1$"
   ]
  },
  {
   "cell_type": "code",
   "execution_count": 8,
   "metadata": {},
   "outputs": [
    {
     "data": {
      "text/plain": [
       "array([[0.],\n",
       "       [0.],\n",
       "       [0.]])"
      ]
     },
     "execution_count": 8,
     "metadata": {},
     "output_type": "execute_result"
    }
   ],
   "source": [
    "n=X.shape[1]\n",
    "theta = np.zeros((n, 1))\n",
    "theta"
   ]
  },
  {
   "cell_type": "markdown",
   "metadata": {},
   "source": [
    "Calculer le cout initial"
   ]
  },
  {
   "cell_type": "code",
   "execution_count": 9,
   "metadata": {},
   "outputs": [
    {
     "name": "stdout",
     "output_type": "stream",
     "text": [
      "[0.69314718]\n",
      "0.0009248256683349609\n"
     ]
    }
   ],
   "source": [
    "initialCost , time =computeCost(X, y, theta)\n",
    "print(initialCost)\n",
    "print(time)"
   ]
  },
  {
   "cell_type": "code",
   "execution_count": 3,
   "metadata": {},
   "outputs": [
    {
     "ename": "NameError",
     "evalue": "name 'y' is not defined",
     "output_type": "error",
     "traceback": [
      "\u001b[1;31m---------------------------------------------------------------------------\u001b[0m",
      "\u001b[1;31mNameError\u001b[0m                                 Traceback (most recent call last)",
      "\u001b[1;32m~\\AppData\\Local\\Temp/ipykernel_26552/173972931.py\u001b[0m in \u001b[0;36m<module>\u001b[1;34m\u001b[0m\n\u001b[0;32m      1\u001b[0m \u001b[1;31m#on normalise les données car les valeurs des données sont tres differante les une aux autres\u001b[0m\u001b[1;33m\u001b[0m\u001b[1;33m\u001b[0m\u001b[0m\n\u001b[0;32m      2\u001b[0m \u001b[1;33m\u001b[0m\u001b[0m\n\u001b[1;32m----> 3\u001b[1;33m \u001b[0myn\u001b[0m\u001b[1;33m=\u001b[0m\u001b[0mnp\u001b[0m\u001b[1;33m.\u001b[0m\u001b[0mones\u001b[0m\u001b[1;33m(\u001b[0m\u001b[0my\u001b[0m\u001b[1;33m.\u001b[0m\u001b[0mshape\u001b[0m\u001b[1;33m)\u001b[0m\u001b[1;33m\u001b[0m\u001b[1;33m\u001b[0m\u001b[0m\n\u001b[0m\u001b[0;32m      4\u001b[0m \u001b[0myn\u001b[0m \u001b[1;33m=\u001b[0m \u001b[0mnp\u001b[0m\u001b[1;33m.\u001b[0m\u001b[0mtrue_divide\u001b[0m\u001b[1;33m(\u001b[0m\u001b[1;33m(\u001b[0m\u001b[0my\u001b[0m\u001b[1;33m-\u001b[0m \u001b[0mnp\u001b[0m\u001b[1;33m.\u001b[0m\u001b[0mmean\u001b[0m\u001b[1;33m(\u001b[0m\u001b[0my\u001b[0m\u001b[1;33m)\u001b[0m\u001b[1;33m)\u001b[0m\u001b[1;33m,\u001b[0m\u001b[0mnp\u001b[0m\u001b[1;33m.\u001b[0m\u001b[0mstd\u001b[0m\u001b[1;33m(\u001b[0m\u001b[0my\u001b[0m\u001b[1;33m)\u001b[0m\u001b[1;33m)\u001b[0m\u001b[1;33m\u001b[0m\u001b[1;33m\u001b[0m\u001b[0m\n\u001b[0;32m      5\u001b[0m \u001b[1;33m\u001b[0m\u001b[0m\n",
      "\u001b[1;31mNameError\u001b[0m: name 'y' is not defined"
     ]
    }
   ],
   "source": [
    "#on normalise les données car les valeurs des données sont tres differante les une aux autres\n",
    "\n",
    "yn=np.ones(y.shape)\n",
    "yn = np.true_divide((y- np.mean(y)),np.std(y))\n",
    "\n",
    "Xn=np.ones(X.shape)\n",
    "for i in range(1,X.shape[1]):\n",
    "    Xn[:,i] = np.true_divide((X[:,i]- np.mean(X[:,i])),np.std(X[:,i]))"
   ]
  },
  {
   "cell_type": "markdown",
   "metadata": {},
   "source": [
    "Appel des la fonction de calcul du gradient"
   ]
  },
  {
   "cell_type": "code",
   "execution_count": 13,
   "metadata": {},
   "outputs": [
    {
     "name": "stdout",
     "output_type": "stream",
     "text": [
      "[[9.85100890e-17]\n",
      " [5.85706327e-01]\n",
      " [5.21172282e-01]]\n"
     ]
    }
   ],
   "source": [
    "# paramètres\n",
    "iterations = 1500;\n",
    "alpha = 0.01;\n",
    "# Appel\n",
    "thetan, costn,tmp = gradientDescent(Xn, yn, theta, alpha, iterations)\n",
    "print(thetan)"
   ]
  },
  {
   "cell_type": "markdown",
   "metadata": {},
   "source": [
    "Traçage de la fonction du coût"
   ]
  },
  {
   "cell_type": "markdown",
   "metadata": {},
   "source": [
    "Notons que $\\theta^T  x$ est équivalent à $X  \\theta $ où $X= \\begin{pmatrix}\n",
    "..(x^{(1)})^T..\\\\\n",
    "..(x^{(2)})^T..\\\\\n",
    ".\\\\\n",
    ".\\\\\n",
    ".\\\\\n",
    "..(x^{(m)})^T..\n",
    "\\end{pmatrix} $"
   ]
  },
  {
   "cell_type": "markdown",
   "metadata": {},
   "source": [
    "# Dessin de la limite de decision (Descision Boundary)\n",
    "Dans cette partie, nous aimerions dessiner la ligne separatrice d nos données"
   ]
  },
  {
   "cell_type": "code",
   "execution_count": 14,
   "metadata": {},
   "outputs": [],
   "source": [
    "def drawLine(X,theta):\n",
    "    decision_boundary= -(theta[0] + (theta[1]/100 ) *X[:,1])/(theta[2]/100)\n",
    "    plt.plot(X[:,1],decision_boundary)"
   ]
  },
  {
   "cell_type": "markdown",
   "metadata": {},
   "source": [
    "# Affichage \n",
    "Graphe representant les acceptations selon les caracteristiques"
   ]
  },
  {
   "cell_type": "code",
   "execution_count": 15,
   "metadata": {},
   "outputs": [
    {
     "data": {
      "image/png": "[encoded data removed]",
      "text/plain": [
       "<Figure size 432x288 with 1 Axes>"
      ]
     },
     "metadata": {
      "needs_background": "light"
     },
     "output_type": "display_data"
    }
   ],
   "source": [
    "plt.scatter(Xn[np.where(y==1),1],Xn[np.where(y==1),2], label=\"accepte\",marker ='o')\n",
    "plt.scatter(Xn[np.where(y==0),1],Xn[np.where(y==0),2], label=\"non accepte\",marker ='x')\n",
    "\n",
    "plt.xlabel('Note module 1')\n",
    "plt.ylabel('Note module 2')\n",
    "drawLine(Xn,thetan)"
   ]
  },
  {
   "cell_type": "markdown",
   "metadata": {},
   "source": [
    "Traçage du coût en fonction de theta0 et theta1"
   ]
  },
  {
   "cell_type": "code",
   "execution_count": 16,
   "metadata": {},
   "outputs": [
    {
     "data": {
      "text/plain": [
       "[<matplotlib.lines.Line2D at 0x1e18d1fc490>]"
      ]
     },
     "execution_count": 16,
     "metadata": {},
     "output_type": "execute_result"
    },
    {
     "data": {
      "image/png": "[encoded data removed]",
      "text/plain": [
       "<Figure size 432x288 with 1 Axes>"
      ]
     },
     "metadata": {
      "needs_background": "light"
     },
     "output_type": "display_data"
    }
   ],
   "source": [
    "plt.plot(range(iterations), costn)"
   ]
  },
  {
   "cell_type": "code",
   "execution_count": 17,
   "metadata": {},
   "outputs": [
    {
     "data": {
      "text/plain": [
       "[<matplotlib.lines.Line2D at 0x1e18d26f4c0>]"
      ]
     },
     "execution_count": 17,
     "metadata": {},
     "output_type": "execute_result"
    },
    {
     "data": {
      "image/png": "[encoded data removed]",
      "text/plain": [
       "<Figure size 432x288 with 1 Axes>"
      ]
     },
     "metadata": {
      "needs_background": "light"
     },
     "output_type": "display_data"
    }
   ],
   "source": [
    "plt.plot(range(iterations), tmp)"
   ]
  },
  {
   "cell_type": "markdown",
   "metadata": {},
   "source": [
    "Prédire des valeurs de y"
   ]
  },
  {
   "cell_type": "code",
   "execution_count": 18,
   "metadata": {},
   "outputs": [
    {
     "data": {
      "text/plain": [
       "['admit']"
      ]
     },
     "execution_count": 18,
     "metadata": {},
     "output_type": "execute_result"
    }
   ],
   "source": [
    "# Predire pour des notes note1= 9 et note2=17\n",
    "#on doit normaliser note1 et note2 \n",
    "\n",
    "note1 =(9- np.mean(X[:,1]))/np.std(X[:,1])\n",
    "note2 =(17- np.mean(X[:,2]))/np.std(X[:,2])\n",
    "\n",
    "ypred= np.matmul([1, note1, note2],thetan);\n",
    "pred = ['admit'  if (ypred*np.std(y))+np.mean(y) > 0.5 else 'refusé']\n",
    "pred"
   ]
  },
  {
   "cell_type": "markdown",
   "metadata": {},
   "source": [
    "# Vérification de l'implementation\n",
    "Comparer vos algorithmes à ceux de scikitlearn"
   ]
  },
  {
   "cell_type": "code",
   "execution_count": 19,
   "metadata": {},
   "outputs": [
    {
     "name": "stdout",
     "output_type": "stream",
     "text": [
      "[0 0 0 1 1 0 1 1 1 1 1 0 1 1 0 1 0 0 1 1 0 1 0 0 1 1 1 1 0 0 1 1 0 0 0 0 1\n",
      " 1 0 0 1 0 1 1 0 0 1 1 1 1 1 1 1 0 0 0 1 1 1 1 1 0 0 0 0 0 1 0 1 1 0 1 1 1\n",
      " 1 1 1 1 0 1 1 1 1 0 1 1 0 1 1 0 1 1 0 1 1 1 1 1 0 1]\n",
      "0.1\n",
      "[0.16446141]\n"
     ]
    }
   ],
   "source": [
    "import sklearn\n",
    "from sklearn.linear_model import LogisticRegression\n",
    "from sklearn.metrics import classification_report\n",
    "from sklearn.metrics import mean_squared_error\n",
    "\n",
    "logReg = LogisticRegression()\n",
    "model= logReg.fit(X,y)\n",
    "y_pred = model.predict(X)\n",
    "print(y_pred)\n",
    "#sklearnCost\n",
    "sklearn_cost=mean_squared_error(y,y_pred)\n",
    "print(sklearn_cost)\n",
    "## notre cout \n",
    "final_cos=computeCost(Xn, yn, thetan)\n",
    "print(final_cos[0])\n"
   ]
  },
  {
   "cell_type": "markdown",
   "metadata": {},
   "source": [
    "# Renforcement d'apprentissage\n",
    "Mettre ici toute idée qui pourrait renforcer votre apprentissage"
   ]
  },
  {
   "cell_type": "code",
   "execution_count": null,
   "metadata": {},
   "outputs": [],
   "source": [
    "#augementer le nombre d'iteration pour faire travailler l'algo plus longtemps \n",
    "#ou bien \n",
    "#augementer le learning rate \n",
    "#ou \n",
    "#fixer la valeur du learning rate une fois le cout se stabilise "
   ]
  },
  {
   "cell_type": "markdown",
   "metadata": {},
   "source": [
    "# Consignes"
   ]
  },
  {
   "cell_type": "markdown",
   "metadata": {},
   "source": [
    "Le travail est à remettre par groupe de 4 au maximum [1..4].\n",
    "\n",
    "Le délai est le vendredi 25 Mars 2022 à 22h\n"
   ]
  },
  {
   "cell_type": "code",
   "execution_count": null,
   "metadata": {},
   "outputs": [],
   "source": [
    "# bonne chance"
   ]
  }
 ],
 "metadata": {
  "kernelspec": {
   "display_name": "Python 3 (ipykernel)",
   "language": "python",
   "name": "python3"
  },
  "language_info": {
   "codemirror_mode": {
    "name": "ipython",
    "version": 3
   },
   "file_extension": ".py",
   "mimetype": "text/x-python",
   "name": "python",
   "nbconvert_exporter": "python",
   "pygments_lexer": "ipython3",
   "version": "3.9.7"
  }
 },
 "nbformat": 4,
 "nbformat_minor": 2
}
